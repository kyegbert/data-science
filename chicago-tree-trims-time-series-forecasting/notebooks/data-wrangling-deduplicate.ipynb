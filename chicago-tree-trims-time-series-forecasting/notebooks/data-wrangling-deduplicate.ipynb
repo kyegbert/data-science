{
 "cells": [
  {
   "cell_type": "markdown",
   "metadata": {},
   "source": [
    "# Data Wrangling - Deduplicate Data\n",
    "\n",
    "Load, deduplicate and pickle the Chicago tree trims data. The wrangling of the tree trims dataset is split into two parts to keep the notebook size manageable. This is part two. Part one is located in the `data-wrangling-optimize-verify.ipynb` notebook.\n",
    "\n",
    "**Project Notebooks Execution Order**\n",
    "1. [data-wrangling-optimize-verify.ipynb](data-wrangling-optimize-verify.ipynb)\n",
    "2. data-wrangling-deduplicate.ipynb\n",
    "3. [exploratory-data-analysis.ipynb](exploratory-data-analysis.ipynb)\n",
    "4. [forecasting-opened-requests.ipynb](forecasting-opened-requests.ipynb)\n",
    "5. [forecasting-closed-requests.ipynb](forecasting-closed-requests.ipynb)\n",
    "6. [summary.ipynb](summary.ipynb)\n",
    "\n",
    "For a full explanation of this project, see the `README.md` file at the project root or the `summary.ipynb` notebook.\n",
    "\n",
    "# Import Packages and Modules"
   ]
  },
  {
   "cell_type": "code",
   "execution_count": 1,
   "metadata": {},
   "outputs": [],
   "source": [
    "import os\n",
    "\n",
    "from cycler import cycler\n",
    "from IPython.core.interactiveshell import InteractiveShell\n",
    "import matplotlib as mpl\n",
    "import matplotlib.dates as mdates\n",
    "import matplotlib.pyplot as plt"
   ]
  },
  {
   "cell_type": "markdown",
   "metadata": {},
   "source": [
    "# Settings\n",
    "\n",
    "Configure settings for notebook, plots, files and environmental variables. Set `ast_node_interactivity` to display the output of all expressions in a cell so that more than one data frame can be printed at a time in a single cell. Semicolons at the end of `plt.show();` are used in this notebook to suppress the printing of matplotlib objects in cell outputs. Load functions called in notebook."
   ]
  },
  {
   "cell_type": "code",
   "execution_count": 2,
   "metadata": {},
   "outputs": [],
   "source": [
    "# Notebook settings\n",
    "InteractiveShell.ast_node_interactivity = \"all\"\n",
    "%matplotlib inline\n",
    "\n",
    "# Plot settings\n",
    "alpha_mpl = 0.75\n",
    "color_cycle = ['dodgerblue', '#d5019a', 'midnightblue', 'gray']\n",
    "plt.style.use('seaborn-darkgrid')\n",
    "mpl.rcParams['figure.titlesize'] = 18\n",
    "mpl.rcParams['axes.prop_cycle'] = cycler(color=color_cycle)\n",
    "mpl.rcParams['axes.titlesize'] = 18\n",
    "mpl.rcParams['axes.labelsize'] = 14\n",
    "mpl.rcParams['xtick.labelsize'] = 11\n",
    "mpl.rcParams['ytick.labelsize'] = 11\n",
    "mpl.rcParams['legend.fontsize'] = 11\n",
    "\n",
    "# File settings\n",
    "data_raw = os.path.abspath('../data/raw/')\n",
    "data_interim = os.path.abspath('../data/interim/')\n",
    "data_processed = os.path.abspath('../data/processed/')\n",
    "\n",
    "# Notebooks with shared functions\n",
    "%run 'functions-data.ipynb'"
   ]
  },
  {
   "cell_type": "markdown",
   "metadata": {},
   "source": [
    "# Load Data\n",
    "\n",
    "## Create Data Frame"
   ]
  },
  {
   "cell_type": "code",
   "execution_count": 3,
   "metadata": {},
   "outputs": [
    {
     "name": "stdout",
     "output_type": "stream",
     "text": [
      "Chicago Tree Trims\n",
      "<class 'pandas.core.frame.DataFrame'>\n",
      "Int64Index: 360366 entries, 118 to 360483\n",
      "Data columns (total 12 columns):\n",
      "creation_date_dt           360366 non-null datetime64[ns]\n",
      "completion_date_dt         348660 non-null datetime64[ns]\n",
      "status                     360366 non-null category\n",
      "service_request_number     360366 non-null object\n",
      "type_of_service_request    360366 non-null category\n",
      "location_of_trees          239814 non-null category\n",
      "street_address             360366 non-null object\n",
      "zip_code                   360366 non-null int64\n",
      "community_area             360366 non-null int64\n",
      "latitude                   360259 non-null float64\n",
      "longitude                  360259 non-null float64\n",
      "location                   360259 non-null object\n",
      "dtypes: category(3), datetime64[ns](2), float64(2), int64(2), object(3)\n",
      "memory usage: 102.3 MB\n",
      "None\n",
      "\n",
      "\n"
     ]
    }
   ],
   "source": [
    "df_tt = read_data('Chicago Tree Trims', data_interim, 'chicago-tree-trims.pkl')"
   ]
  },
  {
   "cell_type": "markdown",
   "metadata": {},
   "source": [
    "# Duplicates\n",
    "\n",
    "Review the dataset for duplicated data that can be dropped from the dataset. How many entire rows are duplicated?"
   ]
  },
  {
   "cell_type": "code",
   "execution_count": 4,
   "metadata": {},
   "outputs": [
    {
     "name": "stdout",
     "output_type": "stream",
     "text": [
      "Number of entire rows that are duplicated: 0\n"
     ]
    }
   ],
   "source": [
    "print('Number of entire rows that are duplicated: {}'\n",
    "      .format(df_tt.duplicated().sum()))"
   ]
  },
  {
   "cell_type": "markdown",
   "metadata": {},
   "source": [
    "Duplicates in the dataset are identified in the `status` column with either the \"Completed - Dup\" value or the \"Open - Dup\" value. (See https://data.cityofchicago.org/Service-Requests/311-Service-Requests-Tree-Trims/uxic-zsuj.) How many records in the dataset are marked as \"Completed - Dup\" or the \"Open - Dup\"?"
   ]
  },
  {
   "cell_type": "code",
   "execution_count": 5,
   "metadata": {},
   "outputs": [
    {
     "data": {
      "text/html": [
       "<div>\n",
       "<style scoped>\n",
       "    .dataframe tbody tr th:only-of-type {\n",
       "        vertical-align: middle;\n",
       "    }\n",
       "\n",
       "    .dataframe tbody tr th {\n",
       "        vertical-align: top;\n",
       "    }\n",
       "\n",
       "    .dataframe thead th {\n",
       "        text-align: right;\n",
       "    }\n",
       "</style>\n",
       "<table border=\"1\" class=\"dataframe\">\n",
       "  <thead>\n",
       "    <tr style=\"text-align: right;\">\n",
       "      <th></th>\n",
       "      <th>count</th>\n",
       "    </tr>\n",
       "  </thead>\n",
       "  <tbody>\n",
       "    <tr>\n",
       "      <th>Completed</th>\n",
       "      <td>285606</td>\n",
       "    </tr>\n",
       "    <tr>\n",
       "      <th>Completed - Dup</th>\n",
       "      <td>63054</td>\n",
       "    </tr>\n",
       "    <tr>\n",
       "      <th>Open</th>\n",
       "      <td>9972</td>\n",
       "    </tr>\n",
       "    <tr>\n",
       "      <th>Open - Dup</th>\n",
       "      <td>1734</td>\n",
       "    </tr>\n",
       "  </tbody>\n",
       "</table>\n",
       "</div>"
      ],
      "text/plain": [
       "                  count\n",
       "Completed        285606\n",
       "Completed - Dup   63054\n",
       "Open               9972\n",
       "Open - Dup         1734"
      ]
     },
     "execution_count": 5,
     "metadata": {},
     "output_type": "execute_result"
    }
   ],
   "source": [
    "(df_tt['status'].value_counts().to_frame('count'))"
   ]
  },
  {
   "cell_type": "markdown",
   "metadata": {},
   "source": [
    "Next, verify whether or not all duplicates in the dataset are correctly classified as duplicates in the `status` column. Start by checking for possible duplicate Service Request Numbers.\n",
    "\n",
    "# Duplicated Service Request Numbers (SRNs)\n",
    "\n",
    "Service Request Numbers (SRNs) identify individual tree trim requests. Its possible that there are duplicate SRNs in the dataset and those duplicates may or may not be correctly classified in the `status` column. Check a few scenarios to confirm whether or not SRN duplicates exist and if they are correctly classified.\n",
    "\n",
    "## Identified Duplicates\n",
    "\n",
    "Are there duplicated SRNs in the dataset?"
   ]
  },
  {
   "cell_type": "code",
   "execution_count": 6,
   "metadata": {},
   "outputs": [
    {
     "name": "stdout",
     "output_type": "stream",
     "text": [
      "Number of duplicated SRNs: 1402\n"
     ]
    }
   ],
   "source": [
    "srn_dupes = df_tt[df_tt['service_request_number'].duplicated()].shape[0]\n",
    "print('Number of duplicated SRNs: {}'.format(srn_dupes))"
   ]
  },
  {
   "cell_type": "markdown",
   "metadata": {},
   "source": [
    "What is the `status` value of the duplicated SRNs? Are all duplicated values correctly classified in the `status` column?"
   ]
  },
  {
   "cell_type": "code",
   "execution_count": 7,
   "metadata": {},
   "outputs": [
    {
     "data": {
      "text/html": [
       "<div>\n",
       "<style scoped>\n",
       "    .dataframe tbody tr th:only-of-type {\n",
       "        vertical-align: middle;\n",
       "    }\n",
       "\n",
       "    .dataframe tbody tr th {\n",
       "        vertical-align: top;\n",
       "    }\n",
       "\n",
       "    .dataframe thead th {\n",
       "        text-align: right;\n",
       "    }\n",
       "</style>\n",
       "<table border=\"1\" class=\"dataframe\">\n",
       "  <thead>\n",
       "    <tr style=\"text-align: right;\">\n",
       "      <th></th>\n",
       "      <th>count</th>\n",
       "    </tr>\n",
       "  </thead>\n",
       "  <tbody>\n",
       "    <tr>\n",
       "      <th>Completed</th>\n",
       "      <td>1003</td>\n",
       "    </tr>\n",
       "    <tr>\n",
       "      <th>Completed - Dup</th>\n",
       "      <td>399</td>\n",
       "    </tr>\n",
       "    <tr>\n",
       "      <th>Open - Dup</th>\n",
       "      <td>0</td>\n",
       "    </tr>\n",
       "    <tr>\n",
       "      <th>Open</th>\n",
       "      <td>0</td>\n",
       "    </tr>\n",
       "  </tbody>\n",
       "</table>\n",
       "</div>"
      ],
      "text/plain": [
       "                 count\n",
       "Completed         1003\n",
       "Completed - Dup    399\n",
       "Open - Dup           0\n",
       "Open                 0"
      ]
     },
     "execution_count": 7,
     "metadata": {},
     "output_type": "execute_result"
    }
   ],
   "source": [
    "(df_tt[df_tt['service_request_number'].duplicated()]['status'].value_counts()\n",
    " .to_frame('count'))"
   ]
  },
  {
   "cell_type": "markdown",
   "metadata": {},
   "source": [
    "There are duplicated SRNs that are not classified as duplicates. Refer to these duplicates as unidentified duplicates.\n",
    "\n",
    "## Unidentified Duplicates\n",
    "\n",
    "Are the unidentified duplicates clustered or spread across the dataset?"
   ]
  },
  {
   "cell_type": "code",
   "execution_count": 8,
   "metadata": {},
   "outputs": [
    {
     "data": {
      "image/png": "[encoded data removed]",
      "text/plain": [
       "<Figure size 432x288 with 1 Axes>"
      ]
     },
     "metadata": {},
     "output_type": "display_data"
    }
   ],
   "source": [
    "dupe_status = ['Completed - Dup', 'Open - Dup']\n",
    "mask_dupes_unident = (~(df_tt['status'].isin(dupe_status))\n",
    "                      & (df_tt['service_request_number'].duplicated(keep='first')))\n",
    "\n",
    "srn_dupes_dates = df_tt[mask_dupes_unident]['creation_date_dt']\n",
    "\n",
    "fig, ax = plt.subplots(figsize=(6, 4))\n",
    "\n",
    "ax.hist(mdates.date2num(srn_dupes_dates), bins=8, alpha=alpha_mpl)\n",
    "\n",
    "ax.xaxis.set_major_locator(mdates.YearLocator())\n",
    "ax.xaxis.set_major_formatter(mdates.DateFormatter('%Y'))\n",
    "ax.tick_params(axis='x', rotation=90)\n",
    "ax.set_xlabel('Year')\n",
    "ax.set_ylabel('Frequency')\n",
    "ax.set_title('Unidentified SRN Duplicates')\n",
    "\n",
    "plt.show();"
   ]
  },
  {
   "cell_type": "markdown",
   "metadata": {},
   "source": [
    "Unidentified duplicates are primarily clustered in the years 2013-2015. The volume of unidentified duplicates in those years may impact the models, so investigate the unidentified duplicates further to determine if they can be dropped from the dataset.\n",
    "\n",
    "As for identified duplicates (i.e. `status` values \"Completed - Dup\" or \"Open - Dup\"), drop them from the dataset."
   ]
  },
  {
   "cell_type": "code",
   "execution_count": 9,
   "metadata": {},
   "outputs": [
    {
     "name": "stdout",
     "output_type": "stream",
     "text": [
      "df_tt shape before: (360366, 12)\n",
      "df_tt shape after: (295578, 12)\n"
     ]
    }
   ],
   "source": [
    "print('df_tt shape before: {}'.format(df_tt.shape))\n",
    "df_tt = df_tt[~df_tt['status'].isin(['Completed - Dup', 'Open - Dup'])]\n",
    "print('df_tt shape after: {}'.format(df_tt.shape))"
   ]
  },
  {
   "cell_type": "markdown",
   "metadata": {},
   "source": [
    "There isn't any additional information at the Chicago Data Portal (see https://data.cityofchicago.org/Service-Requests/311-Service-Requests-Tree-Trims/uxic-zsuj) about why the SRN duplicates are not identified as duplicates in the dataset. Is there any information in the data that would indicate whether or not the unidentified duplicates can be dropped from the dataset?\n",
    "\n",
    "### Considerations for Unidentified SRN Duplicates\n",
    "* When the dataset is grouped by year and month, as it will be for the models, what percentage of the records are duplicates? Do duplicates play a large or small role in the dataset at the month level?\n",
    "* Are there requests in the dataset that were closed en mass (perhaps suggesting a mass data cleanup effort) and, if so, do the SRN duplicates play a large role in those data spikes?\n",
    "* How many duplicates are there per SRN? If the size of duplicated groups is three or more, it could complicate the  process of deciding which duplicate to keep.\n",
    "* Which columns conflict between the duplicated SRNs? (There are likely column that conflict between duplicates as entire rows are not duplicated in the dataset.)\n",
    "  * Are NaNs in columns causing conflicts between duplicated SRNs?\n",
    "  * Are there conflicts between the `creation_date_dt` and `completion_date_dt` columns between duplicated SRNs?\n",
    "  \n",
    "Setup filters to identify a subset of rows that include all duplicated SRN records, including the first instance of a duplicate, and a subset of rows that ignores the first instance and keeps all subsequent instances of the duplicate. These filters will be used below for cleanup work."
   ]
  },
  {
   "cell_type": "code",
   "execution_count": 10,
   "metadata": {},
   "outputs": [],
   "source": [
    "srn_dupes_all = df_tt.duplicated('service_request_number', keep=False)\n",
    "srn_dupes_all_idx = df_tt[srn_dupes_all].index\n",
    "srn_dupes_first = df_tt.duplicated('service_request_number', keep='first')\n",
    "srn_dupes_first_idx = df_tt[srn_dupes_first].index"
   ]
  },
  {
   "cell_type": "markdown",
   "metadata": {},
   "source": [
    "### Percentage of Duplicates\n",
    "\n",
    "What percentage of the dataset records are duplicates? Break down the percentage of duplicates by month to understand the impact of duplicates across the dataset. Return the months with the highest rate of duplicates."
   ]
  },
  {
   "cell_type": "code",
   "execution_count": 11,
   "metadata": {},
   "outputs": [
    {
     "name": "stdout",
     "output_type": "stream",
     "text": [
      "Percentage of SRN duplicates in the dataset: 0.33%\n"
     ]
    }
   ],
   "source": [
    "print('Percentage of SRN duplicates in the dataset: {:.2%}'\n",
    "      .format(srn_dupes_first.sum() / df_tt.shape[0]))"
   ]
  },
  {
   "cell_type": "markdown",
   "metadata": {},
   "source": [
    "The overall percentage of duplicates in the dataset is less than 1%. "
   ]
  },
  {
   "cell_type": "code",
   "execution_count": 12,
   "metadata": {},
   "outputs": [
    {
     "data": {
      "text/html": [
       "<style  type=\"text/css\" >\n",
       "</style>  \n",
       "<table id=\"T_b8940efa_ed18_11e8_a590_787b8ace559b\" > \n",
       "<thead>    <tr> \n",
       "        <th class=\"blank\" ></th> \n",
       "        <th class=\"blank level0\" ></th> \n",
       "        <th class=\"col_heading level0 col0\" >counts_all</th> \n",
       "        <th class=\"col_heading level0 col1\" >counts_dupes</th> \n",
       "        <th class=\"col_heading level0 col2\" >percentage</th> \n",
       "    </tr>    <tr> \n",
       "        <th class=\"index_name level0\" >creation_date_dt</th> \n",
       "        <th class=\"index_name level1\" >creation_date_dt</th> \n",
       "        <th class=\"blank\" ></th> \n",
       "        <th class=\"blank\" ></th> \n",
       "        <th class=\"blank\" ></th> \n",
       "    </tr></thead> \n",
       "<tbody>    <tr> \n",
       "        <th id=\"T_b8940efa_ed18_11e8_a590_787b8ace559blevel0_row0\" class=\"row_heading level0 row0\" rowspan=4>2013</th> \n",
       "        <th id=\"T_b8940efa_ed18_11e8_a590_787b8ace559blevel1_row0\" class=\"row_heading level1 row0\" >5</th> \n",
       "        <td id=\"T_b8940efa_ed18_11e8_a590_787b8ace559brow0_col0\" class=\"data row0 col0\" >4725</td> \n",
       "        <td id=\"T_b8940efa_ed18_11e8_a590_787b8ace559brow0_col1\" class=\"data row0 col1\" >406</td> \n",
       "        <td id=\"T_b8940efa_ed18_11e8_a590_787b8ace559brow0_col2\" class=\"data row0 col2\" >8.59%</td> \n",
       "    </tr>    <tr> \n",
       "        <th id=\"T_b8940efa_ed18_11e8_a590_787b8ace559blevel1_row1\" class=\"row_heading level1 row1\" >6</th> \n",
       "        <td id=\"T_b8940efa_ed18_11e8_a590_787b8ace559brow1_col0\" class=\"data row1 col0\" >5849</td> \n",
       "        <td id=\"T_b8940efa_ed18_11e8_a590_787b8ace559brow1_col1\" class=\"data row1 col1\" >64</td> \n",
       "        <td id=\"T_b8940efa_ed18_11e8_a590_787b8ace559brow1_col2\" class=\"data row1 col2\" >1.09%</td> \n",
       "    </tr>    <tr> \n",
       "        <th id=\"T_b8940efa_ed18_11e8_a590_787b8ace559blevel1_row2\" class=\"row_heading level1 row2\" >8</th> \n",
       "        <td id=\"T_b8940efa_ed18_11e8_a590_787b8ace559brow2_col0\" class=\"data row2 col0\" >5168</td> \n",
       "        <td id=\"T_b8940efa_ed18_11e8_a590_787b8ace559brow2_col1\" class=\"data row2 col1\" >60</td> \n",
       "        <td id=\"T_b8940efa_ed18_11e8_a590_787b8ace559brow2_col2\" class=\"data row2 col2\" >1.16%</td> \n",
       "    </tr>    <tr> \n",
       "        <th id=\"T_b8940efa_ed18_11e8_a590_787b8ace559blevel1_row3\" class=\"row_heading level1 row3\" >9</th> \n",
       "        <td id=\"T_b8940efa_ed18_11e8_a590_787b8ace559brow3_col0\" class=\"data row3 col0\" >3216</td> \n",
       "        <td id=\"T_b8940efa_ed18_11e8_a590_787b8ace559brow3_col1\" class=\"data row3 col1\" >40</td> \n",
       "        <td id=\"T_b8940efa_ed18_11e8_a590_787b8ace559brow3_col2\" class=\"data row3 col2\" >1.24%</td> \n",
       "    </tr>    <tr> \n",
       "        <th id=\"T_b8940efa_ed18_11e8_a590_787b8ace559blevel0_row4\" class=\"row_heading level0 row4\" rowspan=9>2014</th> \n",
       "        <th id=\"T_b8940efa_ed18_11e8_a590_787b8ace559blevel1_row4\" class=\"row_heading level1 row4\" >1</th> \n",
       "        <td id=\"T_b8940efa_ed18_11e8_a590_787b8ace559brow4_col0\" class=\"data row4 col0\" >404</td> \n",
       "        <td id=\"T_b8940efa_ed18_11e8_a590_787b8ace559brow4_col1\" class=\"data row4 col1\" >4</td> \n",
       "        <td id=\"T_b8940efa_ed18_11e8_a590_787b8ace559brow4_col2\" class=\"data row4 col2\" >0.99%</td> \n",
       "    </tr>    <tr> \n",
       "        <th id=\"T_b8940efa_ed18_11e8_a590_787b8ace559blevel1_row5\" class=\"row_heading level1 row5\" >3</th> \n",
       "        <td id=\"T_b8940efa_ed18_11e8_a590_787b8ace559brow5_col0\" class=\"data row5 col0\" >1032</td> \n",
       "        <td id=\"T_b8940efa_ed18_11e8_a590_787b8ace559brow5_col1\" class=\"data row5 col1\" >17</td> \n",
       "        <td id=\"T_b8940efa_ed18_11e8_a590_787b8ace559brow5_col2\" class=\"data row5 col2\" >1.65%</td> \n",
       "    </tr>    <tr> \n",
       "        <th id=\"T_b8940efa_ed18_11e8_a590_787b8ace559blevel1_row6\" class=\"row_heading level1 row6\" >4</th> \n",
       "        <td id=\"T_b8940efa_ed18_11e8_a590_787b8ace559brow6_col0\" class=\"data row6 col0\" >1781</td> \n",
       "        <td id=\"T_b8940efa_ed18_11e8_a590_787b8ace559brow6_col1\" class=\"data row6 col1\" >20</td> \n",
       "        <td id=\"T_b8940efa_ed18_11e8_a590_787b8ace559brow6_col2\" class=\"data row6 col2\" >1.12%</td> \n",
       "    </tr>    <tr> \n",
       "        <th id=\"T_b8940efa_ed18_11e8_a590_787b8ace559blevel1_row7\" class=\"row_heading level1 row7\" >5</th> \n",
       "        <td id=\"T_b8940efa_ed18_11e8_a590_787b8ace559brow7_col0\" class=\"data row7 col0\" >4053</td> \n",
       "        <td id=\"T_b8940efa_ed18_11e8_a590_787b8ace559brow7_col1\" class=\"data row7 col1\" >73</td> \n",
       "        <td id=\"T_b8940efa_ed18_11e8_a590_787b8ace559brow7_col2\" class=\"data row7 col2\" >1.80%</td> \n",
       "    </tr>    <tr> \n",
       "        <th id=\"T_b8940efa_ed18_11e8_a590_787b8ace559blevel1_row8\" class=\"row_heading level1 row8\" >6</th> \n",
       "        <td id=\"T_b8940efa_ed18_11e8_a590_787b8ace559brow8_col0\" class=\"data row8 col0\" >6663</td> \n",
       "        <td id=\"T_b8940efa_ed18_11e8_a590_787b8ace559brow8_col1\" class=\"data row8 col1\" >160</td> \n",
       "        <td id=\"T_b8940efa_ed18_11e8_a590_787b8ace559brow8_col2\" class=\"data row8 col2\" >2.40%</td> \n",
       "    </tr>    <tr> \n",
       "        <th id=\"T_b8940efa_ed18_11e8_a590_787b8ace559blevel1_row9\" class=\"row_heading level1 row9\" >7</th> \n",
       "        <td id=\"T_b8940efa_ed18_11e8_a590_787b8ace559brow9_col0\" class=\"data row9 col0\" >6588</td> \n",
       "        <td id=\"T_b8940efa_ed18_11e8_a590_787b8ace559brow9_col1\" class=\"data row9 col1\" >88</td> \n",
       "        <td id=\"T_b8940efa_ed18_11e8_a590_787b8ace559brow9_col2\" class=\"data row9 col2\" >1.34%</td> \n",
       "    </tr>    <tr> \n",
       "        <th id=\"T_b8940efa_ed18_11e8_a590_787b8ace559blevel1_row10\" class=\"row_heading level1 row10\" >8</th> \n",
       "        <td id=\"T_b8940efa_ed18_11e8_a590_787b8ace559brow10_col0\" class=\"data row10 col0\" >6233</td> \n",
       "        <td id=\"T_b8940efa_ed18_11e8_a590_787b8ace559brow10_col1\" class=\"data row10 col1\" >110</td> \n",
       "        <td id=\"T_b8940efa_ed18_11e8_a590_787b8ace559brow10_col2\" class=\"data row10 col2\" >1.76%</td> \n",
       "    </tr>    <tr> \n",
       "        <th id=\"T_b8940efa_ed18_11e8_a590_787b8ace559blevel1_row11\" class=\"row_heading level1 row11\" >9</th> \n",
       "        <td id=\"T_b8940efa_ed18_11e8_a590_787b8ace559brow11_col0\" class=\"data row11 col0\" >5928</td> \n",
       "        <td id=\"T_b8940efa_ed18_11e8_a590_787b8ace559brow11_col1\" class=\"data row11 col1\" >96</td> \n",
       "        <td id=\"T_b8940efa_ed18_11e8_a590_787b8ace559brow11_col2\" class=\"data row11 col2\" >1.62%</td> \n",
       "    </tr>    <tr> \n",
       "        <th id=\"T_b8940efa_ed18_11e8_a590_787b8ace559blevel1_row12\" class=\"row_heading level1 row12\" >10</th> \n",
       "        <td id=\"T_b8940efa_ed18_11e8_a590_787b8ace559brow12_col0\" class=\"data row12 col0\" >5675</td> \n",
       "        <td id=\"T_b8940efa_ed18_11e8_a590_787b8ace559brow12_col1\" class=\"data row12 col1\" >98</td> \n",
       "        <td id=\"T_b8940efa_ed18_11e8_a590_787b8ace559brow12_col2\" class=\"data row12 col2\" >1.73%</td> \n",
       "    </tr>    <tr> \n",
       "        <th id=\"T_b8940efa_ed18_11e8_a590_787b8ace559blevel0_row13\" class=\"row_heading level0 row13\" rowspan=3>2015</th> \n",
       "        <th id=\"T_b8940efa_ed18_11e8_a590_787b8ace559blevel1_row13\" class=\"row_heading level1 row13\" >1</th> \n",
       "        <td id=\"T_b8940efa_ed18_11e8_a590_787b8ace559brow13_col0\" class=\"data row13 col0\" >1080</td> \n",
       "        <td id=\"T_b8940efa_ed18_11e8_a590_787b8ace559brow13_col1\" class=\"data row13 col1\" >14</td> \n",
       "        <td id=\"T_b8940efa_ed18_11e8_a590_787b8ace559brow13_col2\" class=\"data row13 col2\" >1.30%</td> \n",
       "    </tr>    <tr> \n",
       "        <th id=\"T_b8940efa_ed18_11e8_a590_787b8ace559blevel1_row14\" class=\"row_heading level1 row14\" >2</th> \n",
       "        <td id=\"T_b8940efa_ed18_11e8_a590_787b8ace559brow14_col0\" class=\"data row14 col0\" >566</td> \n",
       "        <td id=\"T_b8940efa_ed18_11e8_a590_787b8ace559brow14_col1\" class=\"data row14 col1\" >8</td> \n",
       "        <td id=\"T_b8940efa_ed18_11e8_a590_787b8ace559brow14_col2\" class=\"data row14 col2\" >1.41%</td> \n",
       "    </tr>    <tr> \n",
       "        <th id=\"T_b8940efa_ed18_11e8_a590_787b8ace559blevel1_row15\" class=\"row_heading level1 row15\" >4</th> \n",
       "        <td id=\"T_b8940efa_ed18_11e8_a590_787b8ace559brow15_col0\" class=\"data row15 col0\" >2110</td> \n",
       "        <td id=\"T_b8940efa_ed18_11e8_a590_787b8ace559brow15_col1\" class=\"data row15 col1\" >38</td> \n",
       "        <td id=\"T_b8940efa_ed18_11e8_a590_787b8ace559brow15_col2\" class=\"data row15 col2\" >1.80%</td> \n",
       "    </tr></tbody> \n",
       "</table> "
      ],
      "text/plain": [
       "<pandas.io.formats.style.Styler at 0x123e5b400>"
      ]
     },
     "execution_count": 12,
     "metadata": {},
     "output_type": "execute_result"
    },
    {
     "data": {
      "text/html": [
       "<style  type=\"text/css\" >\n",
       "</style>  \n",
       "<table id=\"T_b8ab16d8_ed18_11e8_84da_787b8ace559b\" > \n",
       "<thead>    <tr> \n",
       "        <th class=\"blank\" ></th> \n",
       "        <th class=\"blank level0\" ></th> \n",
       "        <th class=\"col_heading level0 col0\" >counts_all</th> \n",
       "        <th class=\"col_heading level0 col1\" >counts_dupes</th> \n",
       "        <th class=\"col_heading level0 col2\" >percentage</th> \n",
       "    </tr>    <tr> \n",
       "        <th class=\"index_name level0\" >completion_date_dt</th> \n",
       "        <th class=\"index_name level1\" >completion_date_dt</th> \n",
       "        <th class=\"blank\" ></th> \n",
       "        <th class=\"blank\" ></th> \n",
       "        <th class=\"blank\" ></th> \n",
       "    </tr></thead> \n",
       "<tbody>    <tr> \n",
       "        <th id=\"T_b8ab16d8_ed18_11e8_84da_787b8ace559blevel0_row0\" class=\"row_heading level0 row0\" >2013</th> \n",
       "        <th id=\"T_b8ab16d8_ed18_11e8_84da_787b8ace559blevel1_row0\" class=\"row_heading level1 row0\" >5</th> \n",
       "        <td id=\"T_b8ab16d8_ed18_11e8_84da_787b8ace559brow0_col0\" class=\"data row0 col0\" >2729</td> \n",
       "        <td id=\"T_b8ab16d8_ed18_11e8_84da_787b8ace559brow0_col1\" class=\"data row0 col1\" >389</td> \n",
       "        <td id=\"T_b8ab16d8_ed18_11e8_84da_787b8ace559brow0_col2\" class=\"data row0 col2\" >14.25%</td> \n",
       "    </tr>    <tr> \n",
       "        <th id=\"T_b8ab16d8_ed18_11e8_84da_787b8ace559blevel0_row1\" class=\"row_heading level0 row1\" rowspan=2>2014</th> \n",
       "        <th id=\"T_b8ab16d8_ed18_11e8_84da_787b8ace559blevel1_row1\" class=\"row_heading level1 row1\" >6</th> \n",
       "        <td id=\"T_b8ab16d8_ed18_11e8_84da_787b8ace559brow1_col0\" class=\"data row1 col0\" >5001</td> \n",
       "        <td id=\"T_b8ab16d8_ed18_11e8_84da_787b8ace559brow1_col1\" class=\"data row1 col1\" >89</td> \n",
       "        <td id=\"T_b8ab16d8_ed18_11e8_84da_787b8ace559brow1_col2\" class=\"data row1 col2\" >1.78%</td> \n",
       "    </tr>    <tr> \n",
       "        <th id=\"T_b8ab16d8_ed18_11e8_84da_787b8ace559blevel1_row2\" class=\"row_heading level1 row2\" >11</th> \n",
       "        <td id=\"T_b8ab16d8_ed18_11e8_84da_787b8ace559brow2_col0\" class=\"data row2 col0\" >5650</td> \n",
       "        <td id=\"T_b8ab16d8_ed18_11e8_84da_787b8ace559brow2_col1\" class=\"data row2 col1\" >531</td> \n",
       "        <td id=\"T_b8ab16d8_ed18_11e8_84da_787b8ace559brow2_col2\" class=\"data row2 col2\" >9.40%</td> \n",
       "    </tr>    <tr> \n",
       "        <th id=\"T_b8ab16d8_ed18_11e8_84da_787b8ace559blevel0_row3\" class=\"row_heading level0 row3\" rowspan=8>2015</th> \n",
       "        <th id=\"T_b8ab16d8_ed18_11e8_84da_787b8ace559blevel1_row3\" class=\"row_heading level1 row3\" >1</th> \n",
       "        <td id=\"T_b8ab16d8_ed18_11e8_84da_787b8ace559brow3_col0\" class=\"data row3 col0\" >2740</td> \n",
       "        <td id=\"T_b8ab16d8_ed18_11e8_84da_787b8ace559brow3_col1\" class=\"data row3 col1\" >36</td> \n",
       "        <td id=\"T_b8ab16d8_ed18_11e8_84da_787b8ace559brow3_col2\" class=\"data row3 col2\" >1.31%</td> \n",
       "    </tr>    <tr> \n",
       "        <th id=\"T_b8ab16d8_ed18_11e8_84da_787b8ace559blevel1_row4\" class=\"row_heading level1 row4\" >2</th> \n",
       "        <td id=\"T_b8ab16d8_ed18_11e8_84da_787b8ace559brow4_col0\" class=\"data row4 col0\" >1181</td> \n",
       "        <td id=\"T_b8ab16d8_ed18_11e8_84da_787b8ace559brow4_col1\" class=\"data row4 col1\" >25</td> \n",
       "        <td id=\"T_b8ab16d8_ed18_11e8_84da_787b8ace559brow4_col2\" class=\"data row4 col2\" >2.12%</td> \n",
       "    </tr>    <tr> \n",
       "        <th id=\"T_b8ab16d8_ed18_11e8_84da_787b8ace559blevel1_row5\" class=\"row_heading level1 row5\" >3</th> \n",
       "        <td id=\"T_b8ab16d8_ed18_11e8_84da_787b8ace559brow5_col0\" class=\"data row5 col0\" >3028</td> \n",
       "        <td id=\"T_b8ab16d8_ed18_11e8_84da_787b8ace559brow5_col1\" class=\"data row5 col1\" >51</td> \n",
       "        <td id=\"T_b8ab16d8_ed18_11e8_84da_787b8ace559brow5_col2\" class=\"data row5 col2\" >1.68%</td> \n",
       "    </tr>    <tr> \n",
       "        <th id=\"T_b8ab16d8_ed18_11e8_84da_787b8ace559blevel1_row6\" class=\"row_heading level1 row6\" >4</th> \n",
       "        <td id=\"T_b8ab16d8_ed18_11e8_84da_787b8ace559brow6_col0\" class=\"data row6 col0\" >3947</td> \n",
       "        <td id=\"T_b8ab16d8_ed18_11e8_84da_787b8ace559brow6_col1\" class=\"data row6 col1\" >80</td> \n",
       "        <td id=\"T_b8ab16d8_ed18_11e8_84da_787b8ace559brow6_col2\" class=\"data row6 col2\" >2.03%</td> \n",
       "    </tr>    <tr> \n",
       "        <th id=\"T_b8ab16d8_ed18_11e8_84da_787b8ace559blevel1_row7\" class=\"row_heading level1 row7\" >5</th> \n",
       "        <td id=\"T_b8ab16d8_ed18_11e8_84da_787b8ace559brow7_col0\" class=\"data row7 col0\" >5042</td> \n",
       "        <td id=\"T_b8ab16d8_ed18_11e8_84da_787b8ace559brow7_col1\" class=\"data row7 col1\" >84</td> \n",
       "        <td id=\"T_b8ab16d8_ed18_11e8_84da_787b8ace559brow7_col2\" class=\"data row7 col2\" >1.67%</td> \n",
       "    </tr>    <tr> \n",
       "        <th id=\"T_b8ab16d8_ed18_11e8_84da_787b8ace559blevel1_row8\" class=\"row_heading level1 row8\" >7</th> \n",
       "        <td id=\"T_b8ab16d8_ed18_11e8_84da_787b8ace559brow8_col0\" class=\"data row8 col0\" >3299</td> \n",
       "        <td id=\"T_b8ab16d8_ed18_11e8_84da_787b8ace559brow8_col1\" class=\"data row8 col1\" >59</td> \n",
       "        <td id=\"T_b8ab16d8_ed18_11e8_84da_787b8ace559brow8_col2\" class=\"data row8 col2\" >1.79%</td> \n",
       "    </tr>    <tr> \n",
       "        <th id=\"T_b8ab16d8_ed18_11e8_84da_787b8ace559blevel1_row9\" class=\"row_heading level1 row9\" >8</th> \n",
       "        <td id=\"T_b8ab16d8_ed18_11e8_84da_787b8ace559brow9_col0\" class=\"data row9 col0\" >2777</td> \n",
       "        <td id=\"T_b8ab16d8_ed18_11e8_84da_787b8ace559brow9_col1\" class=\"data row9 col1\" >64</td> \n",
       "        <td id=\"T_b8ab16d8_ed18_11e8_84da_787b8ace559brow9_col2\" class=\"data row9 col2\" >2.30%</td> \n",
       "    </tr>    <tr> \n",
       "        <th id=\"T_b8ab16d8_ed18_11e8_84da_787b8ace559blevel1_row10\" class=\"row_heading level1 row10\" >9</th> \n",
       "        <td id=\"T_b8ab16d8_ed18_11e8_84da_787b8ace559brow10_col0\" class=\"data row10 col0\" >5159</td> \n",
       "        <td id=\"T_b8ab16d8_ed18_11e8_84da_787b8ace559brow10_col1\" class=\"data row10 col1\" >65</td> \n",
       "        <td id=\"T_b8ab16d8_ed18_11e8_84da_787b8ace559brow10_col2\" class=\"data row10 col2\" >1.26%</td> \n",
       "    </tr></tbody> \n",
       "</table> "
      ],
      "text/plain": [
       "<pandas.io.formats.style.Styler at 0x11e36a748>"
      ]
     },
     "execution_count": 12,
     "metadata": {},
     "output_type": "execute_result"
    }
   ],
   "source": [
    "def group_by_date(col, df, idx=None):\n",
    "    '''Group data frame by year and month.\n",
    "    \n",
    "    Parameters\n",
    "    ----------\n",
    "    col : str\n",
    "        Datetime column used to group data frame.\n",
    "    df : pd.DataFrame\n",
    "        Data frame to group.\n",
    "    idx : pd.index, optional\n",
    "        Index used to filter data frame.\n",
    "        \n",
    "    Returns\n",
    "    -------\n",
    "    df : pd.DataFrame\n",
    "        Data frame with DatetimeIndex grouped by year and month and\n",
    "        count of records per year and month.\n",
    "    '''\n",
    "    if idx is not None:\n",
    "        df = df[df[col].notnull()].loc[idx].set_index(col)\n",
    "        col_name = 'counts_dupes'\n",
    "    else:\n",
    "        df = df[df[col].notnull()].set_index(col)\n",
    "        col_name = 'counts_all'\n",
    "    groups = [df.index.year, df.index.month]\n",
    "    df = df.groupby(groups).size().to_frame(col_name)\n",
    "    return df\n",
    "\n",
    "def top_dupes_by_percent(col, df=df_tt, idx=srn_dupes_all_idx):\n",
    "    '''Return top percentage of duplicates per year and month.\n",
    "    \n",
    "    Parameters\n",
    "    ----------\n",
    "    col : str\n",
    "        Datetime column used to group data frame.\n",
    "    df : pd.DataFrame\n",
    "        Data frame to group.\n",
    "    idx : pd.index, optional\n",
    "        Index used to filter data frame.\n",
    "\n",
    "    Returns\n",
    "    -------\n",
    "    df : pd.DataFrame\n",
    "        Data frame of top percentage of duplicates per year and month. \n",
    "    '''\n",
    "    df_size = group_by_date(col, df)\n",
    "    df_dupes = group_by_date(col, df, idx.values)\n",
    "    df_size = df_size.merge(df_dupes, how='left', left_index=True,\n",
    "                            right_index=True)\n",
    "    df_size = df_size.fillna(0)\n",
    "    df_size['percentage'] = df_size['counts_dupes'] / df_size['counts_all']\n",
    "    df_size = df_size[df_size['percentage'] > .0099]\n",
    "    df_size = df_size.style.format({'percentage': '{:.2%}'})\n",
    "    return df_size\n",
    "\n",
    "top_dupes_by_percent('creation_date_dt')\n",
    "top_dupes_by_percent('completion_date_dt')"
   ]
  },
  {
   "cell_type": "markdown",
   "metadata": {},
   "source": [
    "For a majority of the dataset, the impact of duplicates for any given month is marginal. However, for May 2013, the impact of duplicates for both `completion_date_dt` and `completion_date_dt` variables is high. Also the percentage of duplicate `completion_date_dt` values in November 2014 is nearly 10%. \n",
    "\n",
    "### Request Closures En Mass\n",
    "\n",
    "Are there usually large spikes in request closures and, if so, do the duplicates play a role in those spikes?\n",
    "\n",
    "Plot the number of closed requests per day to visualize unusual spikes in the closing dates for requests. To smooth out the noise in the line graph below, use a rolling mean (i.e., for every data point, average the data points on either side). Also plot the number of closed requests for unidentified duplicate SRNs."
   ]
  },
  {
   "cell_type": "code",
   "execution_count": 13,
   "metadata": {},
   "outputs": [
    {
     "data": {
      "image/png": "[encoded data removed]",
      "text/plain": [
       "<Figure size 792x288 with 1 Axes>"
      ]
     },
     "metadata": {},
     "output_type": "display_data"
    }
   ],
   "source": [
    "df_comp_date_counts = (df_tt[df_tt['completion_date_dt'].notnull()]\n",
    "                       .groupby('completion_date_dt')\n",
    "                       .size()\n",
    "                       .to_frame('count')\n",
    "                       .reset_index())\n",
    "x_1 = df_comp_date_counts['completion_date_dt']\n",
    "y_1 = df_comp_date_counts['count'].rolling(12).mean()\n",
    "y_median = df_comp_date_counts['count'].median()\n",
    "\n",
    "df_srn_dupe = (df_tt[df_tt['completion_date_dt'].notnull()]\n",
    "               .loc[srn_dupes_first_idx]\n",
    "               .groupby('completion_date_dt')\n",
    "               .size()\n",
    "               .to_frame('count')\n",
    "               .reset_index())\n",
    "x_2 = df_srn_dupe['completion_date_dt']\n",
    "y_2 = df_srn_dupe['count']\n",
    "\n",
    "fig, ax = plt.subplots(figsize=(11, 4))\n",
    "\n",
    "ax.plot(x_1, y_1, alpha=alpha_mpl, linewidth=1, label='Rolling Mean')\n",
    "ax.plot(x_2, y_2, color='C2', alpha=alpha_mpl, linewidth=1, \n",
    "         label='Duplicate SRN')\n",
    "ax.axhline(y_median, color='C1', alpha=0.5, linewidth=1, linestyle='--', \n",
    "            label='Median')\n",
    "\n",
    "ax.xaxis.set_major_locator(mdates.YearLocator())\n",
    "ax.xaxis.set_major_formatter(mdates.DateFormatter('%Y'))\n",
    "ax.set_xlabel('Years')\n",
    "ax.set_ylabel('Closed Requests')\n",
    "ax.set_title('Number of Closed Requests per Day')\n",
    "ax.legend(loc='upper left')\n",
    "\n",
    "plt.show();"
   ]
  },
  {
   "cell_type": "markdown",
   "metadata": {},
   "source": [
    "Aside for May 2013 and November 2014, as indicated above, duplicated SRNs play only a small role the spikes of closed requests.\n",
    "\n",
    "### Number of Duplicates per SRN\n",
    "\n",
    "Group the SRN duplicates and count the number of duplicates per group. What is the range of group sizes?"
   ]
  },
  {
   "cell_type": "code",
   "execution_count": 14,
   "metadata": {},
   "outputs": [
    {
     "data": {
      "text/html": [
       "<div>\n",
       "<style scoped>\n",
       "    .dataframe tbody tr th:only-of-type {\n",
       "        vertical-align: middle;\n",
       "    }\n",
       "\n",
       "    .dataframe tbody tr th {\n",
       "        vertical-align: top;\n",
       "    }\n",
       "\n",
       "    .dataframe thead th {\n",
       "        text-align: right;\n",
       "    }\n",
       "</style>\n",
       "<table border=\"1\" class=\"dataframe\">\n",
       "  <thead>\n",
       "    <tr style=\"text-align: right;\">\n",
       "      <th></th>\n",
       "      <th>group_size</th>\n",
       "      <th>count</th>\n",
       "    </tr>\n",
       "  </thead>\n",
       "  <tbody>\n",
       "    <tr>\n",
       "      <th>0</th>\n",
       "      <td>2</td>\n",
       "      <td>962</td>\n",
       "    </tr>\n",
       "    <tr>\n",
       "      <th>1</th>\n",
       "      <td>3</td>\n",
       "      <td>4</td>\n",
       "    </tr>\n",
       "  </tbody>\n",
       "</table>\n",
       "</div>"
      ],
      "text/plain": [
       "   group_size  count\n",
       "0           2    962\n",
       "1           3      4"
      ]
     },
     "execution_count": 14,
     "metadata": {},
     "output_type": "execute_result"
    }
   ],
   "source": [
    "(df_tt[srn_dupes_all]\n",
    " .groupby('service_request_number')\n",
    " .size()\n",
    " .value_counts()\n",
    " .to_frame()\n",
    " .reset_index()\n",
    " .rename({'index': 'group_size', 0: 'count'}, axis='columns'))"
   ]
  },
  {
   "cell_type": "markdown",
   "metadata": {},
   "source": [
    "There are a handful of duplicates SRNs where there are 3 duplicates in a group.\n",
    "\n",
    "### NaNs\n",
    "\n",
    "NaNs in columns could be the cause of differences between duplicate SRNs. Out of the duplicate SRNs, which columns contain NaNs? If possible, fill NaN values with populated values from the corresponding SRN duplicate."
   ]
  },
  {
   "cell_type": "code",
   "execution_count": 15,
   "metadata": {},
   "outputs": [
    {
     "data": {
      "text/html": [
       "<div>\n",
       "<style scoped>\n",
       "    .dataframe tbody tr th:only-of-type {\n",
       "        vertical-align: middle;\n",
       "    }\n",
       "\n",
       "    .dataframe tbody tr th {\n",
       "        vertical-align: top;\n",
       "    }\n",
       "\n",
       "    .dataframe thead th {\n",
       "        text-align: right;\n",
       "    }\n",
       "</style>\n",
       "<table border=\"1\" class=\"dataframe\">\n",
       "  <thead>\n",
       "    <tr style=\"text-align: right;\">\n",
       "      <th></th>\n",
       "      <th>nan_count</th>\n",
       "    </tr>\n",
       "  </thead>\n",
       "  <tbody>\n",
       "    <tr>\n",
       "      <th>creation_date_dt</th>\n",
       "      <td>0</td>\n",
       "    </tr>\n",
       "    <tr>\n",
       "      <th>completion_date_dt</th>\n",
       "      <td>0</td>\n",
       "    </tr>\n",
       "    <tr>\n",
       "      <th>status</th>\n",
       "      <td>0</td>\n",
       "    </tr>\n",
       "    <tr>\n",
       "      <th>service_request_number</th>\n",
       "      <td>0</td>\n",
       "    </tr>\n",
       "    <tr>\n",
       "      <th>type_of_service_request</th>\n",
       "      <td>0</td>\n",
       "    </tr>\n",
       "    <tr>\n",
       "      <th>location_of_trees</th>\n",
       "      <td>859</td>\n",
       "    </tr>\n",
       "    <tr>\n",
       "      <th>street_address</th>\n",
       "      <td>0</td>\n",
       "    </tr>\n",
       "    <tr>\n",
       "      <th>zip_code</th>\n",
       "      <td>0</td>\n",
       "    </tr>\n",
       "    <tr>\n",
       "      <th>community_area</th>\n",
       "      <td>0</td>\n",
       "    </tr>\n",
       "    <tr>\n",
       "      <th>latitude</th>\n",
       "      <td>1</td>\n",
       "    </tr>\n",
       "    <tr>\n",
       "      <th>longitude</th>\n",
       "      <td>1</td>\n",
       "    </tr>\n",
       "    <tr>\n",
       "      <th>location</th>\n",
       "      <td>1</td>\n",
       "    </tr>\n",
       "  </tbody>\n",
       "</table>\n",
       "</div>"
      ],
      "text/plain": [
       "                         nan_count\n",
       "creation_date_dt                 0\n",
       "completion_date_dt               0\n",
       "status                           0\n",
       "service_request_number           0\n",
       "type_of_service_request          0\n",
       "location_of_trees              859\n",
       "street_address                   0\n",
       "zip_code                         0\n",
       "community_area                   0\n",
       "latitude                         1\n",
       "longitude                        1\n",
       "location                         1"
      ]
     },
     "execution_count": 15,
     "metadata": {},
     "output_type": "execute_result"
    }
   ],
   "source": [
    "df_tt[srn_dupes_all].isnull().sum().to_frame('nan_count')"
   ]
  },
  {
   "cell_type": "markdown",
   "metadata": {},
   "source": [
    "How many of the duplicate SRNs with NaNs are in groups of 3? Filling NaN values in groups of three is not as straight forward as doing the same for groups of two. "
   ]
  },
  {
   "cell_type": "code",
   "execution_count": 16,
   "metadata": {},
   "outputs": [
    {
     "name": "stdout",
     "output_type": "stream",
     "text": [
      "Number of groups with three records and NaN values: 1\n"
     ]
    }
   ],
   "source": [
    "s_nan_groups = (df_tt[srn_dupes_all & (df_tt.isnull().any(axis=1))]\n",
    "                .groupby('service_request_number')\n",
    "                .size()\n",
    "                .value_counts())\n",
    "\n",
    "print('Number of groups with three records and NaN values: {}'\n",
    "      .format(s_nan_groups.loc[3]))"
   ]
  },
  {
   "cell_type": "markdown",
   "metadata": {},
   "source": [
    "The NaN values in groups of three are isolated to one group. Which columns in that group are NaN?"
   ]
  },
  {
   "cell_type": "code",
   "execution_count": 17,
   "metadata": {
    "scrolled": false
   },
   "outputs": [
    {
     "data": {
      "text/html": [
       "<div>\n",
       "<style scoped>\n",
       "    .dataframe tbody tr th:only-of-type {\n",
       "        vertical-align: middle;\n",
       "    }\n",
       "\n",
       "    .dataframe tbody tr th {\n",
       "        vertical-align: top;\n",
       "    }\n",
       "\n",
       "    .dataframe thead th {\n",
       "        text-align: right;\n",
       "    }\n",
       "</style>\n",
       "<table border=\"1\" class=\"dataframe\">\n",
       "  <thead>\n",
       "    <tr style=\"text-align: right;\">\n",
       "      <th></th>\n",
       "      <th>nan_count</th>\n",
       "    </tr>\n",
       "  </thead>\n",
       "  <tbody>\n",
       "    <tr>\n",
       "      <th>creation_date_dt</th>\n",
       "      <td>0</td>\n",
       "    </tr>\n",
       "    <tr>\n",
       "      <th>completion_date_dt</th>\n",
       "      <td>0</td>\n",
       "    </tr>\n",
       "    <tr>\n",
       "      <th>status</th>\n",
       "      <td>0</td>\n",
       "    </tr>\n",
       "    <tr>\n",
       "      <th>service_request_number</th>\n",
       "      <td>0</td>\n",
       "    </tr>\n",
       "    <tr>\n",
       "      <th>type_of_service_request</th>\n",
       "      <td>0</td>\n",
       "    </tr>\n",
       "    <tr>\n",
       "      <th>location_of_trees</th>\n",
       "      <td>3</td>\n",
       "    </tr>\n",
       "    <tr>\n",
       "      <th>street_address</th>\n",
       "      <td>0</td>\n",
       "    </tr>\n",
       "    <tr>\n",
       "      <th>zip_code</th>\n",
       "      <td>0</td>\n",
       "    </tr>\n",
       "    <tr>\n",
       "      <th>community_area</th>\n",
       "      <td>0</td>\n",
       "    </tr>\n",
       "    <tr>\n",
       "      <th>latitude</th>\n",
       "      <td>0</td>\n",
       "    </tr>\n",
       "    <tr>\n",
       "      <th>longitude</th>\n",
       "      <td>0</td>\n",
       "    </tr>\n",
       "    <tr>\n",
       "      <th>location</th>\n",
       "      <td>0</td>\n",
       "    </tr>\n",
       "  </tbody>\n",
       "</table>\n",
       "</div>"
      ],
      "text/plain": [
       "                         nan_count\n",
       "creation_date_dt                 0\n",
       "completion_date_dt               0\n",
       "status                           0\n",
       "service_request_number           0\n",
       "type_of_service_request          0\n",
       "location_of_trees                3\n",
       "street_address                   0\n",
       "zip_code                         0\n",
       "community_area                   0\n",
       "latitude                         0\n",
       "longitude                        0\n",
       "location                         0"
      ]
     },
     "execution_count": 17,
     "metadata": {},
     "output_type": "execute_result"
    }
   ],
   "source": [
    "s_group_three = (df_tt[srn_dupes_all].groupby('service_request_number').size()\n",
    "                 .loc[lambda x: x == 3].index)\n",
    "df_tt[(df_tt['service_request_number'].isin(s_group_three))\n",
    "      & (df_tt.isnull().any(axis=1))].isnull().sum().to_frame('nan_count')"
   ]
  },
  {
   "cell_type": "markdown",
   "metadata": {},
   "source": [
    "All of the NaN values are isolated to the `location_of_trees` column, so groups of three don't need any modification. Leave the groups of three out of the filling operation below.\n",
    "\n",
    "Fill the NaN values where populated values are available. Some groups may contain NaN values in all rows for a particular column."
   ]
  },
  {
   "cell_type": "code",
   "execution_count": 18,
   "metadata": {},
   "outputs": [],
   "source": [
    "df_tt.loc[srn_dupes_all_idx] = (df_tt[srn_dupes_all]\n",
    "                                .groupby('service_request_number')\n",
    "                                .apply(lambda g: g.bfill().ffill()))"
   ]
  },
  {
   "cell_type": "markdown",
   "metadata": {},
   "source": [
    "Verify the fill results."
   ]
  },
  {
   "cell_type": "code",
   "execution_count": 19,
   "metadata": {},
   "outputs": [
    {
     "data": {
      "text/html": [
       "<div>\n",
       "<style scoped>\n",
       "    .dataframe tbody tr th:only-of-type {\n",
       "        vertical-align: middle;\n",
       "    }\n",
       "\n",
       "    .dataframe tbody tr th {\n",
       "        vertical-align: top;\n",
       "    }\n",
       "\n",
       "    .dataframe thead th {\n",
       "        text-align: right;\n",
       "    }\n",
       "</style>\n",
       "<table border=\"1\" class=\"dataframe\">\n",
       "  <thead>\n",
       "    <tr style=\"text-align: right;\">\n",
       "      <th></th>\n",
       "      <th>nan_count</th>\n",
       "    </tr>\n",
       "  </thead>\n",
       "  <tbody>\n",
       "    <tr>\n",
       "      <th>creation_date_dt</th>\n",
       "      <td>0</td>\n",
       "    </tr>\n",
       "    <tr>\n",
       "      <th>completion_date_dt</th>\n",
       "      <td>0</td>\n",
       "    </tr>\n",
       "    <tr>\n",
       "      <th>status</th>\n",
       "      <td>0</td>\n",
       "    </tr>\n",
       "    <tr>\n",
       "      <th>service_request_number</th>\n",
       "      <td>0</td>\n",
       "    </tr>\n",
       "    <tr>\n",
       "      <th>type_of_service_request</th>\n",
       "      <td>0</td>\n",
       "    </tr>\n",
       "    <tr>\n",
       "      <th>location_of_trees</th>\n",
       "      <td>857</td>\n",
       "    </tr>\n",
       "    <tr>\n",
       "      <th>street_address</th>\n",
       "      <td>0</td>\n",
       "    </tr>\n",
       "    <tr>\n",
       "      <th>zip_code</th>\n",
       "      <td>0</td>\n",
       "    </tr>\n",
       "    <tr>\n",
       "      <th>community_area</th>\n",
       "      <td>0</td>\n",
       "    </tr>\n",
       "    <tr>\n",
       "      <th>latitude</th>\n",
       "      <td>0</td>\n",
       "    </tr>\n",
       "    <tr>\n",
       "      <th>longitude</th>\n",
       "      <td>0</td>\n",
       "    </tr>\n",
       "    <tr>\n",
       "      <th>location</th>\n",
       "      <td>0</td>\n",
       "    </tr>\n",
       "  </tbody>\n",
       "</table>\n",
       "</div>"
      ],
      "text/plain": [
       "                         nan_count\n",
       "creation_date_dt                 0\n",
       "completion_date_dt               0\n",
       "status                           0\n",
       "service_request_number           0\n",
       "type_of_service_request          0\n",
       "location_of_trees              857\n",
       "street_address                   0\n",
       "zip_code                         0\n",
       "community_area                   0\n",
       "latitude                         0\n",
       "longitude                        0\n",
       "location                         0"
      ]
     },
     "execution_count": 19,
     "metadata": {},
     "output_type": "execute_result"
    }
   ],
   "source": [
    "df_tt[srn_dupes_all].isnull().sum().to_frame('nan_count')"
   ]
  },
  {
   "cell_type": "markdown",
   "metadata": {},
   "source": [
    "### Diff Rows\n",
    "\n",
    "Now that the NaN values are filled in, which columns are responsible for the conflict between duplicates and how severe are the conflicts? A combination of the severity level of the conflicts and the importance of the column in the forecasting models will determine whether or not to further wrangle the duplicates. \n",
    "\n",
    "Create a boolean data frame that indicates which columns conflict."
   ]
  },
  {
   "cell_type": "code",
   "execution_count": 20,
   "metadata": {},
   "outputs": [],
   "source": [
    "def compare_rows(g):\n",
    "    '''Diff columns between rows.\n",
    "    \n",
    "    Within each group, compare the values in the next row against the\n",
    "    values in the previous row. If the values differ, return True, if\n",
    "    not, return False.\n",
    "    \n",
    "    Parameters\n",
    "    ----------\n",
    "    g : group in pandas GroupBy object\n",
    "        A single group in Pandas GroupBy object.\n",
    "    \n",
    "    Returns\n",
    "    -------\n",
    "    df_diff : pd.DataFrame\n",
    "        Data frame of booleans.\n",
    "    '''\n",
    "    df_diff = g.ne(g.shift())\n",
    "    return df_diff\n",
    "\n",
    "df_diff = (df_tt[srn_dupes_all]\n",
    "           .sort_values(['service_request_number', 'completion_date_dt'])\n",
    "           .groupby('service_request_number')\n",
    "           .apply(lambda g: compare_rows(g)))"
   ]
  },
  {
   "cell_type": "markdown",
   "metadata": {},
   "source": [
    "Review the results of the last row of each group in df_diff. The last row indicates which columns hold the differences between the rows within groups.  "
   ]
  },
  {
   "cell_type": "code",
   "execution_count": 21,
   "metadata": {},
   "outputs": [
    {
     "data": {
      "text/html": [
       "<div>\n",
       "<style scoped>\n",
       "    .dataframe tbody tr th:only-of-type {\n",
       "        vertical-align: middle;\n",
       "    }\n",
       "\n",
       "    .dataframe tbody tr th {\n",
       "        vertical-align: top;\n",
       "    }\n",
       "\n",
       "    .dataframe thead th {\n",
       "        text-align: right;\n",
       "    }\n",
       "</style>\n",
       "<table border=\"1\" class=\"dataframe\">\n",
       "  <thead>\n",
       "    <tr style=\"text-align: right;\">\n",
       "      <th></th>\n",
       "      <th>Diff</th>\n",
       "    </tr>\n",
       "  </thead>\n",
       "  <tbody>\n",
       "    <tr>\n",
       "      <th>creation_date_dt</th>\n",
       "      <td>0</td>\n",
       "    </tr>\n",
       "    <tr>\n",
       "      <th>completion_date_dt</th>\n",
       "      <td>966</td>\n",
       "    </tr>\n",
       "    <tr>\n",
       "      <th>status</th>\n",
       "      <td>0</td>\n",
       "    </tr>\n",
       "    <tr>\n",
       "      <th>service_request_number</th>\n",
       "      <td>0</td>\n",
       "    </tr>\n",
       "    <tr>\n",
       "      <th>type_of_service_request</th>\n",
       "      <td>0</td>\n",
       "    </tr>\n",
       "    <tr>\n",
       "      <th>location_of_trees</th>\n",
       "      <td>0</td>\n",
       "    </tr>\n",
       "    <tr>\n",
       "      <th>street_address</th>\n",
       "      <td>20</td>\n",
       "    </tr>\n",
       "    <tr>\n",
       "      <th>zip_code</th>\n",
       "      <td>10</td>\n",
       "    </tr>\n",
       "    <tr>\n",
       "      <th>community_area</th>\n",
       "      <td>11</td>\n",
       "    </tr>\n",
       "    <tr>\n",
       "      <th>latitude</th>\n",
       "      <td>19</td>\n",
       "    </tr>\n",
       "    <tr>\n",
       "      <th>longitude</th>\n",
       "      <td>19</td>\n",
       "    </tr>\n",
       "    <tr>\n",
       "      <th>location</th>\n",
       "      <td>19</td>\n",
       "    </tr>\n",
       "  </tbody>\n",
       "</table>\n",
       "</div>"
      ],
      "text/plain": [
       "                         Diff\n",
       "creation_date_dt            0\n",
       "completion_date_dt        966\n",
       "status                      0\n",
       "service_request_number      0\n",
       "type_of_service_request     0\n",
       "location_of_trees           0\n",
       "street_address             20\n",
       "zip_code                   10\n",
       "community_area             11\n",
       "latitude                   19\n",
       "longitude                  19\n",
       "location                   19"
      ]
     },
     "execution_count": 21,
     "metadata": {},
     "output_type": "execute_result"
    }
   ],
   "source": [
    "sort = ['service_request_number', 'completion_date_dt']\n",
    "srn_dupes_last_idx = (df_tt[srn_dupes_all].reset_index().sort_values(sort)\n",
    "                      .groupby('service_request_number').last()['index'])\n",
    "\n",
    "df_diff.loc[srn_dupes_last_idx].sum().to_frame('Diff')"
   ]
  },
  {
   "cell_type": "markdown",
   "metadata": {},
   "source": [
    "The `completion_date_dt` and `creation_date_dt` columns are important for the forecasting models. The majority of the differences between rows of duplicate SRNs is in the `completion_date_dt` field. There are a minor number of differences in the geolocation related fields. Those geolocation fields are not critical the models and their numbers are low, so leave them as is."
   ]
  },
  {
   "cell_type": "markdown",
   "metadata": {},
   "source": [
    "**Created Date and Completed Date Conflicts**"
   ]
  },
  {
   "cell_type": "markdown",
   "metadata": {},
   "source": [
    "What is the range of differences in days between the completion dates for duplicated SRNs? View the distribution in log scale to visualize the long tail more clearly."
   ]
  },
  {
   "cell_type": "code",
   "execution_count": 22,
   "metadata": {
    "scrolled": false
   },
   "outputs": [
    {
     "data": {
      "image/png": "[encoded data removed]",
      "text/plain": [
       "<Figure size 576x288 with 1 Axes>"
      ]
     },
     "metadata": {},
     "output_type": "display_data"
    }
   ],
   "source": [
    "diff_completion = (df_tt[srn_dupes_all]\n",
    "                   .sort_values(sort)\n",
    "                   .groupby('service_request_number')\n",
    "                   ['completion_date_dt']\n",
    "                   .diff().dt.days\n",
    "                   .loc[lambda x: x.notnull()]\n",
    "                   .astype(int)\n",
    "                   .value_counts())\n",
    "\n",
    "fig, ax = plt.subplots(figsize=(8, 4))\n",
    "\n",
    "ax.hist(diff_completion, bins=25, alpha=alpha_mpl, log=True)\n",
    "\n",
    "ax.set_xticks(range(0, diff_completion.max(), 50))\n",
    "ax.set_xlabel('Number of Days')\n",
    "ax.set_ylabel('Frequency')\n",
    "ax.set_title('Differences in Days Between Completion Date')\n",
    "\n",
    "plt.show();"
   ]
  },
  {
   "cell_type": "markdown",
   "metadata": {},
   "source": [
    "The majority of the differences in days between conflicting `completion_date_dt` dates fall within a 50 day window with a few outliers. \n",
    "\n",
    "### Duplicates Interim Solution\n",
    "\n",
    "After examining the SRN duplicates from several angles and without a firm conclusion as to why these duplicates are not marked as such in the dataset, the best course of action is to keep the duplicates in the dataset for now. Mark them as duplicates in a new column, fit each model with and without the duplicates and then compare the results between models."
   ]
  },
  {
   "cell_type": "code",
   "execution_count": 23,
   "metadata": {},
   "outputs": [
    {
     "name": "stdout",
     "output_type": "stream",
     "text": [
      "Number of SRN duplicates: 970\n"
     ]
    }
   ],
   "source": [
    "df_tt['is_duplicate'] = False\n",
    "\n",
    "drop_dupe_idx = (df_tt[srn_dupes_first]\n",
    "                 .sort_values(['creation_date_dt', 'completion_date_dt'])\n",
    "                 .index)\n",
    "\n",
    "df_tt.loc[drop_dupe_idx, 'is_duplicate'] = True\n",
    "print('Number of SRN duplicates: {}'.format(df_tt['is_duplicate'].sum()))"
   ]
  },
  {
   "cell_type": "markdown",
   "metadata": {},
   "source": [
    "# Export Data\n",
    "\n",
    "Export data to `/data/processed/` directory. Pickle the data frame to preserve its attributes for reading into subsequent notebooks.\n",
    "\n",
    "**Chicago Tree Trims**"
   ]
  },
  {
   "cell_type": "code",
   "execution_count": 24,
   "metadata": {},
   "outputs": [
    {
     "name": "stdout",
     "output_type": "stream",
     "text": [
      "chicago-tree-trims: (295578, 13)\n"
     ]
    }
   ],
   "source": [
    "export_pickle('chicago-tree-trims', df_tt, data_processed)"
   ]
  },
  {
   "cell_type": "code",
   "execution_count": null,
   "metadata": {},
   "outputs": [],
   "source": []
  }
 ],
 "metadata": {
  "hide_input": false,
  "kernelspec": {
   "display_name": "Python 3",
   "language": "python",
   "name": "python3"
  },
  "language_info": {
   "codemirror_mode": {
    "name": "ipython",
    "version": 3
   },
   "file_extension": ".py",
   "mimetype": "text/x-python",
   "name": "python",
   "nbconvert_exporter": "python",
   "pygments_lexer": "ipython3",
   "version": "3.6.6"
  },
  "toc": {
   "base_numbering": 1,
   "nav_menu": {
    "height": "228px",
    "width": "252px"
   },
   "number_sections": true,
   "sideBar": true,
   "skip_h1_title": false,
   "title_cell": "Table of Contents",
   "title_sidebar": "Contents",
   "toc_cell": false,
   "toc_position": {},
   "toc_section_display": "block",
   "toc_window_display": true
  }
 },
 "nbformat": 4,
 "nbformat_minor": 2
}
