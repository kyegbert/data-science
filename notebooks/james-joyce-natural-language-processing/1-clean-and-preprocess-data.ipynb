{
 "cells": [
  {
   "cell_type": "markdown",
   "metadata": {},
   "source": [
    "# Clean and Preprocess Literary Text Files\n",
    "\n",
    "Import, clean and preprocess the text files of James Joyce's literary works *Dubliners* and *A Portrait of the Artist as a Young Man* for Natural Language Processing.\n",
    "\n",
    "## Project Notes\n",
    "\n",
    "Project Notebooks Execution Order:\n",
    "\n",
    "* 1-clean-and-preprocess-data.ipynb\n",
    "* [2-natural-language-processing.ipynb](2-natural-language-processing.ipynb)"
   ]
  },
  {
   "cell_type": "markdown",
   "metadata": {},
   "source": [
    "# Import Packages and Modules"
   ]
  },
  {
   "cell_type": "code",
   "execution_count": 1,
   "metadata": {},
   "outputs": [],
   "source": [
    "import os\n",
    "import re\n",
    "import time\n",
    "\n",
    "from cycler import cycler\n",
    "from IPython.core.interactiveshell import InteractiveShell\n",
    "import matplotlib as mpl\n",
    "import matplotlib.pyplot as plt\n",
    "import nltk\n",
    "import pandas as pd\n",
    "import pickle"
   ]
  },
  {
   "cell_type": "markdown",
   "metadata": {},
   "source": [
    "# Settings"
   ]
  },
  {
   "cell_type": "markdown",
   "metadata": {},
   "source": [
    "Configure settings for notebook, plots and files. Set `ast_node_interactivity` to display the output of all expressions in a cell so that more than one data frame can be printed at a time in a single cell. Semicolons at the end of `plt.show();` are used in this notebook to suppress the printing of matplotlib objects in cell outputs."
   ]
  },
  {
   "cell_type": "code",
   "execution_count": 2,
   "metadata": {},
   "outputs": [],
   "source": [
    "# Notebook settings\n",
    "InteractiveShell.ast_node_interactivity = \"all\"\n",
    "%matplotlib inline\n",
    "\n",
    "# Plot settings\n",
    "alpha_mpl = 0.75\n",
    "alpha_line = 0.75\n",
    "alpha_fill = 0.2\n",
    "line_width = 2.5\n",
    "color_cycle = ['dodgerblue', 'orange', 'midnightblue', 'gray']\n",
    "plt.style.use('seaborn-darkgrid')\n",
    "mpl.rcParams['figure.titlesize'] = 18\n",
    "mpl.rcParams['axes.prop_cycle'] = cycler(color=color_cycle)\n",
    "mpl.rcParams['axes.titlesize'] = 18\n",
    "mpl.rcParams['axes.labelsize'] = 14\n",
    "mpl.rcParams['xtick.labelsize'] = 11\n",
    "mpl.rcParams['ytick.labelsize'] = 11\n",
    "mpl.rcParams['legend.fontsize'] = 11\n",
    "\n",
    "# File settings\n",
    "data_raw = os.path.abspath('./data/raw/')\n",
    "data_processed = os.path.abspath('./data/processed/')"
   ]
  },
  {
   "cell_type": "markdown",
   "metadata": {},
   "source": [
    "# Import Data"
   ]
  },
  {
   "cell_type": "markdown",
   "metadata": {},
   "source": [
    "## Literary Works"
   ]
  },
  {
   "cell_type": "markdown",
   "metadata": {},
   "source": [
    "The collection of short stories *Dubliners* (1914) and the novel *A Portrait of the Artist as a Young Man* (1916) are available as UTF-8 text files from the [Project Gutenberg](http://www.gutenberg.org) site. Project Gutenberg does not allow automated downloads, so manually download the text files and place them in the `/data/raw/` directory.\n",
    "\n",
    "* *Dubliners* UTF-8 text file: http://www.gutenberg.org/files/2814/2814-0.txt\n",
    "* *A Portrait of the Artist as a Young Man* UTF-8 text file: http://www.gutenberg.org/files/4217/4217-0.txt"
   ]
  },
  {
   "cell_type": "code",
   "execution_count": 3,
   "metadata": {},
   "outputs": [
    {
     "name": "stdout",
     "output_type": "stream",
     "text": [
      "Number of lines in Dubliners: 7913\n",
      "Number of lines in Portrait: 9843\n"
     ]
    }
   ],
   "source": [
    "def read_text(txt, start_ln, end_ln, title):\n",
    "    '''Read text file and return list.\n",
    "    \n",
    "    Read in lines from a text file and return a list where each line is \n",
    "    an element. Start reading lines after the Project Gutenberg header \n",
    "    and stop reading lines before the Project Gutenberg footer.\n",
    "    \n",
    "    Parameters\n",
    "    ----------\n",
    "    txt : str\n",
    "        Filename of text file in data_raw directory\n",
    "    start_ln : int\n",
    "        Line number one line below Project Gutenberg footer.\n",
    "    end_ln : int\n",
    "        Line number one line above Project Gutenberg footer.\n",
    "    title : str\n",
    "        Friendly title to indicate which literary text has been \n",
    "        processed.\n",
    "        \n",
    "    Returns\n",
    "    -------\n",
    "    str_output : list\n",
    "        Each element of list is a line from the text file, excluding\n",
    "        Project Gutenberg related lines.\n",
    "    '''\n",
    "    path_txt = os.path.join(data_raw, txt)\n",
    "    with open(path_txt, 'r') as f:\n",
    "        str_output = f.readlines()[start_ln:end_ln]\n",
    "    print('Number of lines in {}: {}'.format(title, len(str_output)))\n",
    "\n",
    "    return str_output\n",
    "\n",
    "dubliners_raw = read_text('2814-0.txt', 79, 7992, 'Dubliners')\n",
    "portrait_raw = read_text('4217-0.txt', 54, 9897, 'Portrait')"
   ]
  },
  {
   "cell_type": "markdown",
   "metadata": {},
   "source": [
    "Check the head and tail of the literary text to verify the texts were read in correctly."
   ]
  },
  {
   "cell_type": "code",
   "execution_count": 4,
   "metadata": {},
   "outputs": [
    {
     "name": "stdout",
     "output_type": "stream",
     "text": [
      "Dubliners\n",
      "['... there was something uncanny about him. I’ll tell you my\\n', 'opinion....”\\n', '\\n', 'He began to puff at his pipe, no doubt arranging his opinion in his\\n']\n",
      "['United States and you are located in the United States, we do not\\n', 'claim a right to prevent you from copying, distributing, performing,\\n', 'displaying or creating derivative works based on the work as long as\\n']\n",
      "\n",
      "\n",
      "Portrait\n",
      "['Chapter I\\n', '\\n', '\\n', 'Once upon a time and a very good time it was there was a moocow coming\\n']\n",
      "['Dublin, 1904.\\n', '\\n', 'Trieste, 1914.\\n']\n"
     ]
    }
   ],
   "source": [
    "print('Dubliners')\n",
    "print(dubliners_raw[:4])\n",
    "print(dubliners_raw[-3:])\n",
    "print('\\n')\n",
    "\n",
    "print('Portrait')\n",
    "print(portrait_raw[:4])\n",
    "print(portrait_raw[-3:])"
   ]
  },
  {
   "cell_type": "markdown",
   "metadata": {},
   "source": [
    "## NRC Emotion Lexicon"
   ]
  },
  {
   "cell_type": "markdown",
   "metadata": {},
   "source": [
    "The NRC Emotion Lexicon<sup>1</sup> contains over 140,000 English words associated with eight emotions (anger, fear, anticipation, trust, surprise, sadness, joy, and disgust) and and two sentiments (negative and positive). A \"1\" in the lexicon indicates the word is associated with an emotion or sentiment and a \"0\" indicates the word is not associated. Some terms may be labeled as both positive and negative. The classification of these words was completed on Amazon's Mechanical Turk platform.\n",
    "\n",
    "The license for the lexicon does not allow for the redistribution of the lexicon. Find the zipped lexicon here: http://sentiment.nrc.ca/lexicons-for-research/NRC-Emotion-Lexicon.zip."
   ]
  },
  {
   "cell_type": "code",
   "execution_count": 5,
   "metadata": {},
   "outputs": [
    {
     "name": "stdout",
     "output_type": "stream",
     "text": [
      "df_lex: (14181, 11)\n"
     ]
    },
    {
     "data": {
      "text/html": [
       "<div>\n",
       "<style scoped>\n",
       "    .dataframe tbody tr th:only-of-type {\n",
       "        vertical-align: middle;\n",
       "    }\n",
       "\n",
       "    .dataframe tbody tr th {\n",
       "        vertical-align: top;\n",
       "    }\n",
       "\n",
       "    .dataframe thead th {\n",
       "        text-align: right;\n",
       "    }\n",
       "</style>\n",
       "<table border=\"1\" class=\"dataframe\">\n",
       "  <thead>\n",
       "    <tr style=\"text-align: right;\">\n",
       "      <th>category</th>\n",
       "      <th>term</th>\n",
       "      <th>anger</th>\n",
       "      <th>anticipation</th>\n",
       "      <th>disgust</th>\n",
       "      <th>fear</th>\n",
       "      <th>joy</th>\n",
       "      <th>negative</th>\n",
       "      <th>positive</th>\n",
       "      <th>sadness</th>\n",
       "      <th>surprise</th>\n",
       "      <th>trust</th>\n",
       "    </tr>\n",
       "  </thead>\n",
       "  <tbody>\n",
       "    <tr>\n",
       "      <th>0</th>\n",
       "      <td>aback</td>\n",
       "      <td>0</td>\n",
       "      <td>0</td>\n",
       "      <td>0</td>\n",
       "      <td>0</td>\n",
       "      <td>0</td>\n",
       "      <td>0</td>\n",
       "      <td>0</td>\n",
       "      <td>0</td>\n",
       "      <td>0</td>\n",
       "      <td>0</td>\n",
       "    </tr>\n",
       "    <tr>\n",
       "      <th>1</th>\n",
       "      <td>abacus</td>\n",
       "      <td>0</td>\n",
       "      <td>0</td>\n",
       "      <td>0</td>\n",
       "      <td>0</td>\n",
       "      <td>0</td>\n",
       "      <td>0</td>\n",
       "      <td>0</td>\n",
       "      <td>0</td>\n",
       "      <td>0</td>\n",
       "      <td>1</td>\n",
       "    </tr>\n",
       "    <tr>\n",
       "      <th>2</th>\n",
       "      <td>abandon</td>\n",
       "      <td>0</td>\n",
       "      <td>0</td>\n",
       "      <td>0</td>\n",
       "      <td>1</td>\n",
       "      <td>0</td>\n",
       "      <td>1</td>\n",
       "      <td>0</td>\n",
       "      <td>1</td>\n",
       "      <td>0</td>\n",
       "      <td>0</td>\n",
       "    </tr>\n",
       "  </tbody>\n",
       "</table>\n",
       "</div>"
      ],
      "text/plain": [
       "category     term  anger  anticipation  disgust  fear  joy  negative  \\\n",
       "0           aback      0             0        0     0    0         0   \n",
       "1          abacus      0             0        0     0    0         0   \n",
       "2         abandon      0             0        0     1    0         1   \n",
       "\n",
       "category  positive  sadness  surprise  trust  \n",
       "0                0        0         0      0  \n",
       "1                0        0         0      1  \n",
       "2                0        1         0      0  "
      ]
     },
     "execution_count": 5,
     "metadata": {},
     "output_type": "execute_result"
    }
   ],
   "source": [
    "path_nrc_lex = os.path.join(data_raw, 'NRC-Emotion-Lexicon-Wordlevel-v0.92.txt')\n",
    "\n",
    "df_lex = pd.read_table(\n",
    "    path_nrc_lex,\n",
    "    sep='\\t',\n",
    "    header=None,\n",
    "    names=['term', 'category', 'flag'],\n",
    "    skiprows=0)\n",
    "\n",
    "df_lex = (df_lex\n",
    "          .groupby(['term', 'category'])\n",
    "          ['flag']\n",
    "          .sum()\n",
    "          .unstack()\n",
    "          .reset_index())\n",
    "\n",
    "print('df_lex: {}'.format(df_lex.shape))\n",
    "df_lex.head(3)"
   ]
  },
  {
   "cell_type": "markdown",
   "metadata": {},
   "source": [
    "## Character Names"
   ]
  },
  {
   "cell_type": "code",
   "execution_count": 6,
   "metadata": {},
   "outputs": [
    {
     "name": "stdout",
     "output_type": "stream",
     "text": [
      "<class 'pandas.core.frame.DataFrame'>\n",
      "RangeIndex: 105 entries, 0 to 104\n",
      "Data columns (total 1 columns):\n",
      "names    105 non-null object\n",
      "dtypes: object(1)\n",
      "memory usage: 968.0+ bytes\n"
     ]
    }
   ],
   "source": [
    "df_characters = pd.read_csv(\n",
    "    os.path.join(data_raw, 'character_names.csv'), \n",
    "    header=None, \n",
    "    names=[\"names\"])\n",
    "df_characters.info()"
   ]
  },
  {
   "cell_type": "markdown",
   "metadata": {},
   "source": [
    "## Download NLTK Dependencies"
   ]
  },
  {
   "cell_type": "code",
   "execution_count": 7,
   "metadata": {},
   "outputs": [
    {
     "name": "stderr",
     "output_type": "stream",
     "text": [
      "[nltk_data] Downloading package stopwords to /root/nltk_data...\n",
      "[nltk_data]   Unzipping corpora/stopwords.zip.\n"
     ]
    },
    {
     "data": {
      "text/plain": [
       "True"
      ]
     },
     "execution_count": 7,
     "metadata": {},
     "output_type": "execute_result"
    },
    {
     "name": "stderr",
     "output_type": "stream",
     "text": [
      "[nltk_data] Downloading package punkt to /root/nltk_data...\n",
      "[nltk_data]   Unzipping tokenizers/punkt.zip.\n"
     ]
    },
    {
     "data": {
      "text/plain": [
       "True"
      ]
     },
     "execution_count": 7,
     "metadata": {},
     "output_type": "execute_result"
    },
    {
     "name": "stderr",
     "output_type": "stream",
     "text": [
      "[nltk_data] Downloading package wordnet to /root/nltk_data...\n",
      "[nltk_data]   Unzipping corpora/wordnet.zip.\n"
     ]
    },
    {
     "data": {
      "text/plain": [
       "True"
      ]
     },
     "execution_count": 7,
     "metadata": {},
     "output_type": "execute_result"
    }
   ],
   "source": [
    "nltk.download('stopwords')\n",
    "nltk.download('punkt')\n",
    "nltk.download('wordnet')"
   ]
  },
  {
   "cell_type": "markdown",
   "metadata": {},
   "source": [
    "# Clean Data"
   ]
  },
  {
   "cell_type": "markdown",
   "metadata": {},
   "source": [
    "Chunk the literary texts into chapters. Dubliners contains 15 short stories. Portrait contains 6 chapters. For a breakdown of stories, chapters and episodes for the respective texts, see the following links:\n",
    "\n",
    "* https://en.wikipedia.org/wiki/Dubliners\n",
    "* https://en.wikipedia.org/wiki/A_Portrait_of_the_Artist_as_a_Young_Man"
   ]
  },
  {
   "cell_type": "code",
   "execution_count": 8,
   "metadata": {},
   "outputs": [
    {
     "name": "stdout",
     "output_type": "stream",
     "text": [
      "Number of Dubliners chapters: 14\n",
      "Number of Portrait chapters: 5\n"
     ]
    }
   ],
   "source": [
    "ss_titles = [\n",
    "    'THE SISTERS', 'AN ENCOUNTER', 'ARABY', 'EVELINE', 'AFTER THE RACE', \n",
    "    'TWO GALLANTS', 'THE BOARDING HOUSE', 'A LITTLE CLOUD', 'COUNTERPARTS', \n",
    "    'CLAY', 'A PAINFUL CASE', 'IVY DAY IN THE COMMITTEE ROOM', 'A MOTHER', \n",
    "    'GRACE', 'THE DEAD'\n",
    "]\n",
    "ss_titles = '|'.join([s.replace(' ', r'\\s') for s in ss_titles])\n",
    "ss_titles = r'^(?:{})'.format(ss_titles)\n",
    "\n",
    "dubliners_raw = [re.sub(ss_titles, 'ss_begin', s) for s in dubliners_raw]\n",
    "\n",
    "re_dubliners = 'ss_begin'\n",
    "re_portrait = r'Chapter\\s[IV]{1,3}'\n",
    "\n",
    "def chunk_chapters(novel, re_pattern):\n",
    "    '''Divide novel into chapters.\n",
    "    \n",
    "    Parameters\n",
    "    ----------\n",
    "    novel : list\n",
    "        List of lines in novel.\n",
    "    re_pattern : raw str\n",
    "        Regular expression to divide novel list into chapters.\n",
    "    \n",
    "    Returns\n",
    "    -------\n",
    "    novel : list\n",
    "        List consisting of sublists which represent chapters in \n",
    "        literary work.\n",
    "    '''\n",
    "    novel = ''.join(novel)\n",
    "    novel = re.sub(r'\\n', ' ', novel)\n",
    "    novel = re.sub(r'\\s+', ' ', novel)\n",
    "    novel = re.split(re_pattern, novel)\n",
    "    novel.pop(0)\n",
    "\n",
    "    return novel\n",
    "\n",
    "dubliners_raw_chptr = chunk_chapters(dubliners_raw, re_dubliners)\n",
    "portrait_raw_chptr = chunk_chapters(portrait_raw, re_portrait)\n",
    "\n",
    "print('Number of Dubliners chapters: {}'.format(len(dubliners_raw_chptr)))\n",
    "print('Number of Portrait chapters: {}'.format(len(portrait_raw_chptr)))"
   ]
  },
  {
   "cell_type": "markdown",
   "metadata": {},
   "source": [
    "Before processing the literary works, create a data frame that organizes the unprocessed works into chapters. The data frame will be used later in a Markov chain generator."
   ]
  },
  {
   "cell_type": "code",
   "execution_count": 9,
   "metadata": {},
   "outputs": [
    {
     "name": "stdout",
     "output_type": "stream",
     "text": [
      "df_raw_chptrs: (19, 3)\n"
     ]
    },
    {
     "data": {
      "text/html": [
       "<div>\n",
       "<style scoped>\n",
       "    .dataframe tbody tr th:only-of-type {\n",
       "        vertical-align: middle;\n",
       "    }\n",
       "\n",
       "    .dataframe tbody tr th {\n",
       "        vertical-align: top;\n",
       "    }\n",
       "\n",
       "    .dataframe thead th {\n",
       "        text-align: right;\n",
       "    }\n",
       "</style>\n",
       "<table border=\"1\" class=\"dataframe\">\n",
       "  <thead>\n",
       "    <tr style=\"text-align: right;\">\n",
       "      <th></th>\n",
       "      <th>chapter</th>\n",
       "      <th>text</th>\n",
       "      <th>title</th>\n",
       "    </tr>\n",
       "  </thead>\n",
       "  <tbody>\n",
       "    <tr>\n",
       "      <th>0</th>\n",
       "      <td>1</td>\n",
       "      <td>It was Joe Dillon who introduced the Wild Wes...</td>\n",
       "      <td>dubliners</td>\n",
       "    </tr>\n",
       "    <tr>\n",
       "      <th>1</th>\n",
       "      <td>2</td>\n",
       "      <td>North Richmond Street, being blind, was a qui...</td>\n",
       "      <td>dubliners</td>\n",
       "    </tr>\n",
       "    <tr>\n",
       "      <th>2</th>\n",
       "      <td>3</td>\n",
       "      <td>She sat at the window watching the evening in...</td>\n",
       "      <td>dubliners</td>\n",
       "    </tr>\n",
       "  </tbody>\n",
       "</table>\n",
       "</div>"
      ],
      "text/plain": [
       "  chapter                                               text      title\n",
       "0       1   It was Joe Dillon who introduced the Wild Wes...  dubliners\n",
       "1       2   North Richmond Street, being blind, was a qui...  dubliners\n",
       "2       3   She sat at the window watching the evening in...  dubliners"
      ]
     },
     "execution_count": 9,
     "metadata": {},
     "output_type": "execute_result"
    },
    {
     "data": {
      "text/html": [
       "<div>\n",
       "<style scoped>\n",
       "    .dataframe tbody tr th:only-of-type {\n",
       "        vertical-align: middle;\n",
       "    }\n",
       "\n",
       "    .dataframe tbody tr th {\n",
       "        vertical-align: top;\n",
       "    }\n",
       "\n",
       "    .dataframe thead th {\n",
       "        text-align: right;\n",
       "    }\n",
       "</style>\n",
       "<table border=\"1\" class=\"dataframe\">\n",
       "  <thead>\n",
       "    <tr style=\"text-align: right;\">\n",
       "      <th></th>\n",
       "      <th>chapter</th>\n",
       "      <th>text</th>\n",
       "      <th>title</th>\n",
       "    </tr>\n",
       "  </thead>\n",
       "  <tbody>\n",
       "    <tr>\n",
       "      <th>16</th>\n",
       "      <td>3</td>\n",
       "      <td>The swift December dusk had come tumbling clo...</td>\n",
       "      <td>portrait</td>\n",
       "    </tr>\n",
       "    <tr>\n",
       "      <th>17</th>\n",
       "      <td>4</td>\n",
       "      <td>Sunday was dedicated to the mystery of the Ho...</td>\n",
       "      <td>portrait</td>\n",
       "    </tr>\n",
       "    <tr>\n",
       "      <th>18</th>\n",
       "      <td>5</td>\n",
       "      <td>He drained his third cup of watery tea to the...</td>\n",
       "      <td>portrait</td>\n",
       "    </tr>\n",
       "  </tbody>\n",
       "</table>\n",
       "</div>"
      ],
      "text/plain": [
       "   chapter                                               text     title\n",
       "16       3   The swift December dusk had come tumbling clo...  portrait\n",
       "17       4   Sunday was dedicated to the mystery of the Ho...  portrait\n",
       "18       5   He drained his third cup of watery tea to the...  portrait"
      ]
     },
     "execution_count": 9,
     "metadata": {},
     "output_type": "execute_result"
    }
   ],
   "source": [
    "def order_chptrs(raw_chptrs):\n",
    "    '''Create list of chapter numbers.\n",
    "    \n",
    "    Parameters\n",
    "    ----------\n",
    "    raw_chptrs : list\n",
    "        List consisting of sublists which represent chapters in \n",
    "        literary work.\n",
    "    \n",
    "    Returns\n",
    "    -------\n",
    "    list\n",
    "        List of chapter numbers.\n",
    "    '''\n",
    "    return list(range(1, len(raw_chptrs)+1))\n",
    "    \n",
    "lit_works = [\n",
    "    [dubliners_raw_chptr, 'dubliners', order_chptrs(dubliners_raw_chptr)], \n",
    "    [portrait_raw_chptr, 'portrait', order_chptrs(portrait_raw_chptr)]\n",
    "]\n",
    "\n",
    "df_raw_chptrs = pd.DataFrame(columns=['title', 'chapter', 'text'])\n",
    "\n",
    "for work in lit_works:\n",
    "    df_chptr = pd.DataFrame(work[0], columns=['text'])\n",
    "    df_chptr['title'] = work[1]\n",
    "    df_chptr['chapter'] = pd.Series(work[2])\n",
    "    df_raw_chptrs = df_raw_chptrs.append(df_chptr, \n",
    "                                         ignore_index=True, \n",
    "                                         sort=True)\n",
    "\n",
    "print('df_raw_chptrs: {}'.format(df_raw_chptrs.shape))\n",
    "df_raw_chptrs.head(3)\n",
    "df_raw_chptrs.tail(3)"
   ]
  },
  {
   "cell_type": "markdown",
   "metadata": {},
   "source": [
    "### Preprocess Data\n",
    "#### Tokenization, Letter Case, Punctuation, Stop Words and Character Names\n",
    "To prepare text for analysis, split the chapters or episodes into individual words, convert words to lowercase and remove punctuation.\n",
    "\n",
    "Remove character names from the `text` column; the focus of this analysis is sentiment and themes, not characters. If the characters are not removed, they will appear as top topics in the topic modeling section."
   ]
  },
  {
   "cell_type": "code",
   "execution_count": 10,
   "metadata": {},
   "outputs": [
    {
     "data": {
      "text/html": [
       "<div>\n",
       "<style scoped>\n",
       "    .dataframe tbody tr th:only-of-type {\n",
       "        vertical-align: middle;\n",
       "    }\n",
       "\n",
       "    .dataframe tbody tr th {\n",
       "        vertical-align: top;\n",
       "    }\n",
       "\n",
       "    .dataframe thead th {\n",
       "        text-align: right;\n",
       "    }\n",
       "</style>\n",
       "<table border=\"1\" class=\"dataframe\">\n",
       "  <thead>\n",
       "    <tr style=\"text-align: right;\">\n",
       "      <th></th>\n",
       "      <th></th>\n",
       "      <th>term</th>\n",
       "    </tr>\n",
       "    <tr>\n",
       "      <th>title</th>\n",
       "      <th>chapter</th>\n",
       "      <th></th>\n",
       "    </tr>\n",
       "  </thead>\n",
       "  <tbody>\n",
       "    <tr>\n",
       "      <th rowspan=\"3\" valign=\"top\">dubliners</th>\n",
       "      <th>1</th>\n",
       "      <td>joe</td>\n",
       "    </tr>\n",
       "    <tr>\n",
       "      <th>1</th>\n",
       "      <td>dillon</td>\n",
       "    </tr>\n",
       "    <tr>\n",
       "      <th>1</th>\n",
       "      <td>introduced</td>\n",
       "    </tr>\n",
       "  </tbody>\n",
       "</table>\n",
       "</div>"
      ],
      "text/plain": [
       "                         term\n",
       "title     chapter            \n",
       "dubliners 1               joe\n",
       "          1            dillon\n",
       "          1        introduced"
      ]
     },
     "execution_count": 10,
     "metadata": {},
     "output_type": "execute_result"
    },
    {
     "data": {
      "text/html": [
       "<div>\n",
       "<style scoped>\n",
       "    .dataframe tbody tr th:only-of-type {\n",
       "        vertical-align: middle;\n",
       "    }\n",
       "\n",
       "    .dataframe tbody tr th {\n",
       "        vertical-align: top;\n",
       "    }\n",
       "\n",
       "    .dataframe thead th {\n",
       "        text-align: right;\n",
       "    }\n",
       "</style>\n",
       "<table border=\"1\" class=\"dataframe\">\n",
       "  <thead>\n",
       "    <tr style=\"text-align: right;\">\n",
       "      <th></th>\n",
       "      <th></th>\n",
       "      <th>term</th>\n",
       "    </tr>\n",
       "    <tr>\n",
       "      <th>title</th>\n",
       "      <th>chapter</th>\n",
       "      <th></th>\n",
       "    </tr>\n",
       "  </thead>\n",
       "  <tbody>\n",
       "    <tr>\n",
       "      <th rowspan=\"3\" valign=\"top\">portrait</th>\n",
       "      <th>5</th>\n",
       "      <td>1904</td>\n",
       "    </tr>\n",
       "    <tr>\n",
       "      <th>5</th>\n",
       "      <td>trieste</td>\n",
       "    </tr>\n",
       "    <tr>\n",
       "      <th>5</th>\n",
       "      <td>1914</td>\n",
       "    </tr>\n",
       "  </tbody>\n",
       "</table>\n",
       "</div>"
      ],
      "text/plain": [
       "                     term\n",
       "title    chapter         \n",
       "portrait 5           1904\n",
       "         5        trieste\n",
       "         5           1914"
      ]
     },
     "execution_count": 10,
     "metadata": {},
     "output_type": "execute_result"
    }
   ],
   "source": [
    "re_characters = r'\\b(?:{})\\b'.format('|'.join(df_characters['names'].tolist()))\n",
    "stop_words = nltk.corpus.stopwords.words('english')\n",
    "re_stop_words = r'\\b(?:{})\\b'.format('|'.join(stop_words))\n",
    "\n",
    "df_proc_terms = df_raw_chptrs.copy()\n",
    "\n",
    "df_proc_terms['text'] = (df_proc_terms['text']\n",
    "                         .str.lower()\n",
    "                         .str.replace(re_stop_words, '', regex=True)\n",
    "                         .str.replace(r'[^\\w\\s\\d]', '', regex=True)\n",
    "                         .str.replace(re_characters, '')\n",
    "                         .apply(nltk.tokenize.word_tokenize))\n",
    "\n",
    "df_proc_terms.set_index(['title', 'chapter'], inplace=True)\n",
    "df_proc_terms = (df_proc_terms['text']\n",
    "                 .apply(pd.Series)\n",
    "                 .stack()\n",
    "                 .reset_index(level=2, drop=True)\n",
    "                 .to_frame('term'))\n",
    "\n",
    "df_proc_terms.head(3)\n",
    "df_proc_terms.tail(3)"
   ]
  },
  {
   "cell_type": "markdown",
   "metadata": {},
   "source": [
    "#### Lemmatization\n",
    "Lemmatization may take longer to process than stemming because lemmatization relies on dictionary lookups, but it is a more sophisticated approach to normalizing text, i.e. finding the root of words."
   ]
  },
  {
   "cell_type": "code",
   "execution_count": 11,
   "metadata": {},
   "outputs": [],
   "source": [
    "lem = nltk.stem.wordnet.WordNetLemmatizer()\n",
    "df_proc_terms['term'] = (\n",
    "    df_proc_terms['term']\n",
    "    .apply(lambda w: lem.lemmatize(w, pos='v'))\n",
    ")"
   ]
  },
  {
   "cell_type": "markdown",
   "metadata": {},
   "source": [
    "#### Word Frequencies\n",
    "Create a data frame of word frequencies within each chapter or short story."
   ]
  },
  {
   "cell_type": "code",
   "execution_count": 12,
   "metadata": {},
   "outputs": [
    {
     "data": {
      "text/html": [
       "<div>\n",
       "<style scoped>\n",
       "    .dataframe tbody tr th:only-of-type {\n",
       "        vertical-align: middle;\n",
       "    }\n",
       "\n",
       "    .dataframe tbody tr th {\n",
       "        vertical-align: top;\n",
       "    }\n",
       "\n",
       "    .dataframe thead th {\n",
       "        text-align: right;\n",
       "    }\n",
       "</style>\n",
       "<table border=\"1\" class=\"dataframe\">\n",
       "  <thead>\n",
       "    <tr style=\"text-align: right;\">\n",
       "      <th></th>\n",
       "      <th></th>\n",
       "      <th>term</th>\n",
       "      <th>freq</th>\n",
       "    </tr>\n",
       "    <tr>\n",
       "      <th>title</th>\n",
       "      <th>chapter</th>\n",
       "      <th></th>\n",
       "      <th></th>\n",
       "    </tr>\n",
       "  </thead>\n",
       "  <tbody>\n",
       "    <tr>\n",
       "      <th rowspan=\"3\" valign=\"top\">dubliners</th>\n",
       "      <th>1</th>\n",
       "      <td>joe</td>\n",
       "      <td>2</td>\n",
       "    </tr>\n",
       "    <tr>\n",
       "      <th>1</th>\n",
       "      <td>dillon</td>\n",
       "      <td>13</td>\n",
       "    </tr>\n",
       "    <tr>\n",
       "      <th>1</th>\n",
       "      <td>introduce</td>\n",
       "      <td>1</td>\n",
       "    </tr>\n",
       "  </tbody>\n",
       "</table>\n",
       "</div>"
      ],
      "text/plain": [
       "                        term  freq\n",
       "title     chapter                 \n",
       "dubliners 1              joe     2\n",
       "          1           dillon    13\n",
       "          1        introduce     1"
      ]
     },
     "execution_count": 12,
     "metadata": {},
     "output_type": "execute_result"
    },
    {
     "data": {
      "text/html": [
       "<div>\n",
       "<style scoped>\n",
       "    .dataframe tbody tr th:only-of-type {\n",
       "        vertical-align: middle;\n",
       "    }\n",
       "\n",
       "    .dataframe tbody tr th {\n",
       "        vertical-align: top;\n",
       "    }\n",
       "\n",
       "    .dataframe thead th {\n",
       "        text-align: right;\n",
       "    }\n",
       "</style>\n",
       "<table border=\"1\" class=\"dataframe\">\n",
       "  <thead>\n",
       "    <tr style=\"text-align: right;\">\n",
       "      <th></th>\n",
       "      <th></th>\n",
       "      <th>term</th>\n",
       "      <th>freq</th>\n",
       "    </tr>\n",
       "    <tr>\n",
       "      <th>title</th>\n",
       "      <th>chapter</th>\n",
       "      <th></th>\n",
       "      <th></th>\n",
       "    </tr>\n",
       "  </thead>\n",
       "  <tbody>\n",
       "    <tr>\n",
       "      <th rowspan=\"2\" valign=\"top\">portrait</th>\n",
       "      <th>2</th>\n",
       "      <td>sincerity</td>\n",
       "      <td>1</td>\n",
       "    </tr>\n",
       "    <tr>\n",
       "      <th>2</th>\n",
       "      <td>dread</td>\n",
       "      <td>2</td>\n",
       "    </tr>\n",
       "    <tr>\n",
       "      <th>dubliners</th>\n",
       "      <th>14</th>\n",
       "      <td>donna_</td>\n",
       "      <td>1</td>\n",
       "    </tr>\n",
       "  </tbody>\n",
       "</table>\n",
       "</div>"
      ],
      "text/plain": [
       "                        term  freq\n",
       "title     chapter                 \n",
       "portrait  2        sincerity     1\n",
       "          2            dread     2\n",
       "dubliners 14          donna_     1"
      ]
     },
     "execution_count": 12,
     "metadata": {},
     "output_type": "execute_result"
    },
    {
     "data": {
      "text/html": [
       "<div>\n",
       "<style scoped>\n",
       "    .dataframe tbody tr th:only-of-type {\n",
       "        vertical-align: middle;\n",
       "    }\n",
       "\n",
       "    .dataframe tbody tr th {\n",
       "        vertical-align: top;\n",
       "    }\n",
       "\n",
       "    .dataframe thead th {\n",
       "        text-align: right;\n",
       "    }\n",
       "</style>\n",
       "<table border=\"1\" class=\"dataframe\">\n",
       "  <thead>\n",
       "    <tr style=\"text-align: right;\">\n",
       "      <th></th>\n",
       "      <th></th>\n",
       "      <th>term</th>\n",
       "      <th>freq</th>\n",
       "    </tr>\n",
       "    <tr>\n",
       "      <th>title</th>\n",
       "      <th>chapter</th>\n",
       "      <th></th>\n",
       "      <th></th>\n",
       "    </tr>\n",
       "  </thead>\n",
       "  <tbody>\n",
       "    <tr>\n",
       "      <th rowspan=\"3\" valign=\"top\">portrait</th>\n",
       "      <th>5</th>\n",
       "      <td>1904</td>\n",
       "      <td>1</td>\n",
       "    </tr>\n",
       "    <tr>\n",
       "      <th>5</th>\n",
       "      <td>trieste</td>\n",
       "      <td>1</td>\n",
       "    </tr>\n",
       "    <tr>\n",
       "      <th>5</th>\n",
       "      <td>1914</td>\n",
       "      <td>1</td>\n",
       "    </tr>\n",
       "  </tbody>\n",
       "</table>\n",
       "</div>"
      ],
      "text/plain": [
       "                     term  freq\n",
       "title    chapter               \n",
       "portrait 5           1904     1\n",
       "         5        trieste     1\n",
       "         5           1914     1"
      ]
     },
     "execution_count": 12,
     "metadata": {},
     "output_type": "execute_result"
    }
   ],
   "source": [
    "df_tf = (\n",
    "    df_proc_terms\n",
    "    .copy()\n",
    "    .groupby(['title', 'chapter'])['term']\n",
    "    .apply(lambda g: nltk.FreqDist(g.tolist()))\n",
    "    .to_frame('freq')\n",
    "    .dropna()\n",
    "    .astype(int)\n",
    "    .reset_index(level=2)\n",
    "    .rename({'level_2': 'term'}, axis='columns')\n",
    ")\n",
    "\n",
    "df_tf.head(3)\n",
    "df_tf.sample(3)\n",
    "df_tf.tail(3)"
   ]
  },
  {
   "cell_type": "markdown",
   "metadata": {},
   "source": [
    "#### NRC Emotion Lexicon"
   ]
  },
  {
   "cell_type": "markdown",
   "metadata": {},
   "source": [
    "Join the sentiment lexicon to the lemmatized and frequency terms. Not every word in the novels will be found in the lexicon.  Those cases will be indicated by a `NaNs` in the lexicon columns."
   ]
  },
  {
   "cell_type": "code",
   "execution_count": 13,
   "metadata": {},
   "outputs": [
    {
     "data": {
      "text/html": [
       "<div>\n",
       "<style scoped>\n",
       "    .dataframe tbody tr th:only-of-type {\n",
       "        vertical-align: middle;\n",
       "    }\n",
       "\n",
       "    .dataframe tbody tr th {\n",
       "        vertical-align: top;\n",
       "    }\n",
       "\n",
       "    .dataframe thead th {\n",
       "        text-align: right;\n",
       "    }\n",
       "</style>\n",
       "<table border=\"1\" class=\"dataframe\">\n",
       "  <thead>\n",
       "    <tr style=\"text-align: right;\">\n",
       "      <th></th>\n",
       "      <th></th>\n",
       "      <th>term</th>\n",
       "      <th>anger</th>\n",
       "      <th>anticipation</th>\n",
       "      <th>disgust</th>\n",
       "      <th>fear</th>\n",
       "      <th>joy</th>\n",
       "      <th>negative</th>\n",
       "      <th>positive</th>\n",
       "      <th>sadness</th>\n",
       "      <th>surprise</th>\n",
       "      <th>trust</th>\n",
       "    </tr>\n",
       "    <tr>\n",
       "      <th>title</th>\n",
       "      <th>chapter</th>\n",
       "      <th></th>\n",
       "      <th></th>\n",
       "      <th></th>\n",
       "      <th></th>\n",
       "      <th></th>\n",
       "      <th></th>\n",
       "      <th></th>\n",
       "      <th></th>\n",
       "      <th></th>\n",
       "      <th></th>\n",
       "      <th></th>\n",
       "    </tr>\n",
       "  </thead>\n",
       "  <tbody>\n",
       "    <tr>\n",
       "      <th rowspan=\"2\" valign=\"top\">dubliners</th>\n",
       "      <th>2</th>\n",
       "      <td>money</td>\n",
       "      <td>1.0</td>\n",
       "      <td>1.0</td>\n",
       "      <td>0.0</td>\n",
       "      <td>0.0</td>\n",
       "      <td>1.0</td>\n",
       "      <td>0.0</td>\n",
       "      <td>1.0</td>\n",
       "      <td>0.0</td>\n",
       "      <td>1.0</td>\n",
       "      <td>1.0</td>\n",
       "    </tr>\n",
       "    <tr>\n",
       "      <th>14</th>\n",
       "      <td>add</td>\n",
       "      <td>0.0</td>\n",
       "      <td>0.0</td>\n",
       "      <td>0.0</td>\n",
       "      <td>0.0</td>\n",
       "      <td>0.0</td>\n",
       "      <td>0.0</td>\n",
       "      <td>0.0</td>\n",
       "      <td>0.0</td>\n",
       "      <td>0.0</td>\n",
       "      <td>0.0</td>\n",
       "    </tr>\n",
       "    <tr>\n",
       "      <th rowspan=\"2\" valign=\"top\">portrait</th>\n",
       "      <th>5</th>\n",
       "      <td>stephen</td>\n",
       "      <td>NaN</td>\n",
       "      <td>NaN</td>\n",
       "      <td>NaN</td>\n",
       "      <td>NaN</td>\n",
       "      <td>NaN</td>\n",
       "      <td>NaN</td>\n",
       "      <td>NaN</td>\n",
       "      <td>NaN</td>\n",
       "      <td>NaN</td>\n",
       "      <td>NaN</td>\n",
       "    </tr>\n",
       "    <tr>\n",
       "      <th>2</th>\n",
       "      <td>smoke</td>\n",
       "      <td>NaN</td>\n",
       "      <td>NaN</td>\n",
       "      <td>NaN</td>\n",
       "      <td>NaN</td>\n",
       "      <td>NaN</td>\n",
       "      <td>NaN</td>\n",
       "      <td>NaN</td>\n",
       "      <td>NaN</td>\n",
       "      <td>NaN</td>\n",
       "      <td>NaN</td>\n",
       "    </tr>\n",
       "  </tbody>\n",
       "</table>\n",
       "</div>"
      ],
      "text/plain": [
       "                      term  anger  anticipation  disgust  fear  joy  negative  \\\n",
       "title     chapter                                                               \n",
       "dubliners 2          money    1.0           1.0      0.0   0.0  1.0       0.0   \n",
       "          14           add    0.0           0.0      0.0   0.0  0.0       0.0   \n",
       "portrait  5        stephen    NaN           NaN      NaN   NaN  NaN       NaN   \n",
       "          2          smoke    NaN           NaN      NaN   NaN  NaN       NaN   \n",
       "\n",
       "                   positive  sadness  surprise  trust  \n",
       "title     chapter                                      \n",
       "dubliners 2             1.0      0.0       1.0    1.0  \n",
       "          14            0.0      0.0       0.0    0.0  \n",
       "portrait  5             NaN      NaN       NaN    NaN  \n",
       "          2             NaN      NaN       NaN    NaN  "
      ]
     },
     "execution_count": 13,
     "metadata": {},
     "output_type": "execute_result"
    },
    {
     "data": {
      "text/html": [
       "<div>\n",
       "<style scoped>\n",
       "    .dataframe tbody tr th:only-of-type {\n",
       "        vertical-align: middle;\n",
       "    }\n",
       "\n",
       "    .dataframe tbody tr th {\n",
       "        vertical-align: top;\n",
       "    }\n",
       "\n",
       "    .dataframe thead th {\n",
       "        text-align: right;\n",
       "    }\n",
       "</style>\n",
       "<table border=\"1\" class=\"dataframe\">\n",
       "  <thead>\n",
       "    <tr style=\"text-align: right;\">\n",
       "      <th></th>\n",
       "      <th></th>\n",
       "      <th>term</th>\n",
       "      <th>freq</th>\n",
       "      <th>anger</th>\n",
       "      <th>anticipation</th>\n",
       "      <th>disgust</th>\n",
       "      <th>fear</th>\n",
       "      <th>joy</th>\n",
       "      <th>negative</th>\n",
       "      <th>positive</th>\n",
       "      <th>sadness</th>\n",
       "      <th>surprise</th>\n",
       "      <th>trust</th>\n",
       "    </tr>\n",
       "    <tr>\n",
       "      <th>title</th>\n",
       "      <th>chapter</th>\n",
       "      <th></th>\n",
       "      <th></th>\n",
       "      <th></th>\n",
       "      <th></th>\n",
       "      <th></th>\n",
       "      <th></th>\n",
       "      <th></th>\n",
       "      <th></th>\n",
       "      <th></th>\n",
       "      <th></th>\n",
       "      <th></th>\n",
       "      <th></th>\n",
       "    </tr>\n",
       "  </thead>\n",
       "  <tbody>\n",
       "    <tr>\n",
       "      <th rowspan=\"2\" valign=\"top\">portrait</th>\n",
       "      <th>1</th>\n",
       "      <td>useless</td>\n",
       "      <td>1</td>\n",
       "      <td>0.0</td>\n",
       "      <td>0.0</td>\n",
       "      <td>0.0</td>\n",
       "      <td>0.0</td>\n",
       "      <td>0.0</td>\n",
       "      <td>1.0</td>\n",
       "      <td>0.0</td>\n",
       "      <td>0.0</td>\n",
       "      <td>0.0</td>\n",
       "      <td>0.0</td>\n",
       "    </tr>\n",
       "    <tr>\n",
       "      <th>5</th>\n",
       "      <td>sneerer</td>\n",
       "      <td>1</td>\n",
       "      <td>NaN</td>\n",
       "      <td>NaN</td>\n",
       "      <td>NaN</td>\n",
       "      <td>NaN</td>\n",
       "      <td>NaN</td>\n",
       "      <td>NaN</td>\n",
       "      <td>NaN</td>\n",
       "      <td>NaN</td>\n",
       "      <td>NaN</td>\n",
       "      <td>NaN</td>\n",
       "    </tr>\n",
       "    <tr>\n",
       "      <th rowspan=\"2\" valign=\"top\">dubliners</th>\n",
       "      <th>10</th>\n",
       "      <td>top</td>\n",
       "      <td>1</td>\n",
       "      <td>0.0</td>\n",
       "      <td>1.0</td>\n",
       "      <td>0.0</td>\n",
       "      <td>0.0</td>\n",
       "      <td>0.0</td>\n",
       "      <td>0.0</td>\n",
       "      <td>1.0</td>\n",
       "      <td>0.0</td>\n",
       "      <td>0.0</td>\n",
       "      <td>1.0</td>\n",
       "    </tr>\n",
       "    <tr>\n",
       "      <th>2</th>\n",
       "      <td>us</td>\n",
       "      <td>4</td>\n",
       "      <td>NaN</td>\n",
       "      <td>NaN</td>\n",
       "      <td>NaN</td>\n",
       "      <td>NaN</td>\n",
       "      <td>NaN</td>\n",
       "      <td>NaN</td>\n",
       "      <td>NaN</td>\n",
       "      <td>NaN</td>\n",
       "      <td>NaN</td>\n",
       "      <td>NaN</td>\n",
       "    </tr>\n",
       "  </tbody>\n",
       "</table>\n",
       "</div>"
      ],
      "text/plain": [
       "                      term  freq  anger  anticipation  disgust  fear  joy  \\\n",
       "title     chapter                                                           \n",
       "portrait  1        useless     1    0.0           0.0      0.0   0.0  0.0   \n",
       "          5        sneerer     1    NaN           NaN      NaN   NaN  NaN   \n",
       "dubliners 10           top     1    0.0           1.0      0.0   0.0  0.0   \n",
       "          2             us     4    NaN           NaN      NaN   NaN  NaN   \n",
       "\n",
       "                   negative  positive  sadness  surprise  trust  \n",
       "title     chapter                                                \n",
       "portrait  1             1.0       0.0      0.0       0.0    0.0  \n",
       "          5             NaN       NaN      NaN       NaN    NaN  \n",
       "dubliners 10            0.0       1.0      0.0       0.0    1.0  \n",
       "          2             NaN       NaN      NaN       NaN    NaN  "
      ]
     },
     "execution_count": 13,
     "metadata": {},
     "output_type": "execute_result"
    }
   ],
   "source": [
    "df_proc_terms = (\n",
    "    df_proc_terms\n",
    "    .reset_index()\n",
    "    .merge(df_lex, how='left', on='term')\n",
    "    .set_index(['title', 'chapter'])\n",
    ")\n",
    "df_proc_terms.sample(4)\n",
    "\n",
    "df_tf = (\n",
    "    df_tf\n",
    "    .reset_index()\n",
    "    .merge(df_lex, how='left', on='term')\n",
    "    .set_index(['title', 'chapter'])\n",
    ")\n",
    "df_tf.sample(4)"
   ]
  },
  {
   "cell_type": "markdown",
   "metadata": {},
   "source": [
    "What is the breakdown of terms that are or are not classified by the lexicon?"
   ]
  },
  {
   "cell_type": "code",
   "execution_count": 14,
   "metadata": {},
   "outputs": [
    {
     "data": {
      "image/png": "[encoded data removed]",
      "text/plain": [
       "<Figure size 720x360 with 1 Axes>"
      ]
     },
     "metadata": {},
     "output_type": "display_data"
    }
   ],
   "source": [
    "df_term_lex_sum = (\n",
    "    df_proc_terms\n",
    "    .groupby('title')['anger']\n",
    "    .apply(lambda g: g.isnull().value_counts())\n",
    "    .to_frame('count')\n",
    ")\n",
    "df_term_lex_sum.index.set_names(['title','is_labeled'], inplace=True)\n",
    "df_term_lex_sum['percent'] = (\n",
    "    df_proc_terms.groupby('title')['anger']\n",
    "    .apply(lambda g: g.isnull().value_counts(normalize=True))\n",
    ")\n",
    "\n",
    "bar_width = 0.3\n",
    "alpha_lex = 0.5\n",
    "line_width_lex = 2\n",
    "\n",
    "bars_null = df_term_lex_sum.xs(True, level=1)['count'].tolist()\n",
    "bars_not_null = df_term_lex_sum.xs(False, level=1)['count'].tolist()\n",
    "bars_all = [*bars_null, *bars_not_null]\n",
    "\n",
    "x_pos_null = list(range(len(bars_null)))\n",
    "x_pos_not_null = [x + bar_width for x in x_pos_null]\n",
    "x_pos_all = [*x_pos_null, *x_pos_not_null]\n",
    "\n",
    "level_1_names = (\n",
    "    df_term_lex_sum\n",
    "    .index\n",
    "    .get_level_values(0)\n",
    "    .str.title()\n",
    "    .unique()\n",
    "    .tolist()\n",
    ")\n",
    "\n",
    "# Maintain the same order as the bars and x positions.\n",
    "percentages = (\n",
    "    df_term_lex_sum\n",
    "    .sort_values('is_labeled', ascending=False)['percent']\n",
    "    .tolist()\n",
    ")\n",
    "percentages = ['{:.0%}'.format(p) for p in percentages]\n",
    "\n",
    "fig, ax = plt.subplots(figsize=(10, 5))\n",
    "\n",
    "ax.bar(\n",
    "    x_pos_null, \n",
    "    bars_null, \n",
    "    bar_width, \n",
    "    alpha=alpha_lex,\n",
    "    facecolor='C0', \n",
    "    edgecolor='C0', \n",
    "    linewidth=line_width_lex\n",
    ")\n",
    "\n",
    "ax.bar(\n",
    "    x_pos_not_null, \n",
    "    bars_not_null, \n",
    "    bar_width, \n",
    "    alpha=alpha_lex,\n",
    "    facecolor='C1', \n",
    "    edgecolor='C1', \n",
    "    linewidth=line_width_lex\n",
    ")\n",
    "\n",
    "ax.set_xticks([x + .5 * bar_width for x in x_pos_null])\n",
    "ax.set_xticklabels(level_1_names)\n",
    "ax.set_ylabel('Counts')\n",
    "ax.set_title('Terms Labeled vs Not Labeled by Lexicon')\n",
    "ax.legend(['Labeled', 'Not Labeled'], loc='upper left')\n",
    "for i in range(len(x_pos_all)):\n",
    "    plt.text(x=x_pos_all[i]-0.03, y=bars_all[i]-2000, s=percentages[i])\n",
    "\n",
    "plt.show(); "
   ]
  },
  {
   "cell_type": "markdown",
   "metadata": {},
   "source": [
    "It's possible that another lexicon, like the [Bing Liu lexicon](http://www2.imm.dtu.dk/pubdb/views/publication_details.php?id=6010) or the [AFINN lexicon](https://www.cs.uic.edu/~liub/FBS/sentiment-analysis.html) might be able to classify more terms than the NRC Emotion Lexicon. Using another lexicon is out of scope of this analysis, but next steps could include implementing all three of the lexicons in a comparison to find the one that classifies the most terms and/or is most useful in detecting plot structure.   "
   ]
  },
  {
   "cell_type": "markdown",
   "metadata": {},
   "source": [
    "# Export Data"
   ]
  },
  {
   "cell_type": "markdown",
   "metadata": {},
   "source": [
    "Export `df_proc_terms`. Preserve the index, as this is a multi index data frame."
   ]
  },
  {
   "cell_type": "code",
   "execution_count": 15,
   "metadata": {},
   "outputs": [
    {
     "name": "stdout",
     "output_type": "stream",
     "text": [
      "df_proc_terms: (73795, 11)\n"
     ]
    }
   ],
   "source": [
    "csv_file = os.path.join(data_processed, 'df-proc-terms.csv')\n",
    "df_proc_terms.to_csv(csv_file, sep=',', encoding='utf-8')\n",
    "print('df_proc_terms: {}'.format(df_proc_terms.shape))"
   ]
  },
  {
   "cell_type": "markdown",
   "metadata": {},
   "source": [
    "Export `df_raw_chptrs`."
   ]
  },
  {
   "cell_type": "code",
   "execution_count": 16,
   "metadata": {},
   "outputs": [
    {
     "name": "stdout",
     "output_type": "stream",
     "text": [
      "df_raw_chptrs: (19, 3)\n"
     ]
    }
   ],
   "source": [
    "csv_file = os.path.join(data_processed, 'df-raw-chptrs.csv')\n",
    "df_raw_chptrs.to_csv(csv_file, sep=',', index=False, encoding='utf-8')\n",
    "print('df_raw_chptrs: {}'.format(df_raw_chptrs.shape))"
   ]
  },
  {
   "cell_type": "markdown",
   "metadata": {},
   "source": [
    "Export `df_tf`. Preserve the index, as this is a multi index data frame."
   ]
  },
  {
   "cell_type": "code",
   "execution_count": 17,
   "metadata": {},
   "outputs": [
    {
     "name": "stdout",
     "output_type": "stream",
     "text": [
      "df_tf: (26399, 12)\n"
     ]
    }
   ],
   "source": [
    "csv_file = os.path.join(data_processed, 'df-tf.csv')\n",
    "df_tf.to_csv(csv_file, sep=',', encoding='utf-8')\n",
    "print('df_tf: {}'.format(df_tf.shape))"
   ]
  },
  {
   "cell_type": "markdown",
   "metadata": {},
   "source": [
    "Export `dubliners_raw_chptr` and `portrait_raw_chptr`."
   ]
  },
  {
   "cell_type": "code",
   "execution_count": 18,
   "metadata": {},
   "outputs": [],
   "source": [
    "path_txt_chptr = os.path.join(data_processed, 'dubliners-raw-chptr')\n",
    "with open(path_txt_chptr, 'wb') as fp:\n",
    "    pickle.dump(dubliners_raw_chptr, fp)\n",
    "\n",
    "path_txt_chptr = os.path.join(data_processed, 'portrait-raw-chptr')\n",
    "with open(path_txt_chptr, 'wb') as fp:\n",
    "    pickle.dump(portrait_raw_chptr, fp)"
   ]
  },
  {
   "cell_type": "code",
   "execution_count": null,
   "metadata": {},
   "outputs": [],
   "source": []
  }
 ],
 "metadata": {
  "hide_input": false,
  "kernelspec": {
   "display_name": "Python 3",
   "language": "python",
   "name": "python3"
  },
  "language_info": {
   "codemirror_mode": {
    "name": "ipython",
    "version": 3
   },
   "file_extension": ".py",
   "mimetype": "text/x-python",
   "name": "python",
   "nbconvert_exporter": "python",
   "pygments_lexer": "ipython3",
   "version": "3.8.2"
  },
  "toc": {
   "base_numbering": 1,
   "nav_menu": {
    "height": "84px",
    "width": "252px"
   },
   "number_sections": true,
   "sideBar": true,
   "skip_h1_title": false,
   "title_cell": "Table of Contents",
   "title_sidebar": "Contents",
   "toc_cell": false,
   "toc_position": {
    "height": "calc(100% - 180px)",
    "left": "10px",
    "top": "150px",
    "width": "326.594px"
   },
   "toc_section_display": "block",
   "toc_window_display": true
  }
 },
 "nbformat": 4,
 "nbformat_minor": 2
}
